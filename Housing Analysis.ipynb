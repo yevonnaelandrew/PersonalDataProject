{
 "cells": [
  {
   "cell_type": "markdown",
   "metadata": {},
   "source": [
    "### Yevonnael Andrew\n",
    "#### Advanced Regression Personal Project\n",
    "\n",
    "# Introduction\n",
    "\n",
    "## Problem Statement\n",
    "\n",
    "A US-based housing company named Surprise Housing has decided to enter the Australian market. The company uses data analytics to purchase houses at a price below their actual values and flip them on at a higher price. For the same purpose, the company has collected a data set from the sale of houses in Australia. The data is provided in the CSV file below.\n",
    "\n",
    "The company is looking at prospective properties to buy to enter the market. You are required to build a regression model using regularisation in order to predict the actual value of the prospective properties and decide whether to invest in them or not.\n",
    "\n",
    "The company wants to know:\n",
    "    - Which variables are significant in predicting the price of a house, and\n",
    "    - How well those variables describe the price of a house.\n",
    "    \n",
    "Also, determine the optimal value of lambda for ridge and lasso regression."
   ]
  },
  {
   "cell_type": "markdown",
   "metadata": {},
   "source": [
    "# Data Understanding"
   ]
  },
  {
   "cell_type": "code",
   "execution_count": 1,
   "metadata": {},
   "outputs": [],
   "source": [
    "import numpy as np\n",
    "import pandas as pd\n",
    "import matplotlib.pyplot as plt\n",
    "import seaborn as sns\n",
    "from sklearn import linear_model, metrics\n",
    "from sklearn.linear_model import LinearRegression\n",
    "from sklearn.linear_model import Ridge\n",
    "from sklearn.linear_model import Lasso\n",
    "from sklearn.linear_model import ElasticNet\n",
    "from sklearn.model_selection import GridSearchCV\n",
    "from sklearn.preprocessing import StandardScaler\n",
    "from sklearn.feature_selection import RFE\n",
    "from sklearn.preprocessing import scale\n",
    "from sklearn.model_selection import KFold\n",
    "\n",
    "import os\n",
    "\n",
    "# hide warnings\n",
    "import warnings\n",
    "warnings.filterwarnings('ignore')"
   ]
  },
  {
   "cell_type": "code",
   "execution_count": 2,
   "metadata": {},
   "outputs": [
    {
     "data": {
      "text/html": [
       "<div>\n",
       "<style scoped>\n",
       "    .dataframe tbody tr th:only-of-type {\n",
       "        vertical-align: middle;\n",
       "    }\n",
       "\n",
       "    .dataframe tbody tr th {\n",
       "        vertical-align: top;\n",
       "    }\n",
       "\n",
       "    .dataframe thead th {\n",
       "        text-align: right;\n",
       "    }\n",
       "</style>\n",
       "<table border=\"1\" class=\"dataframe\">\n",
       "  <thead>\n",
       "    <tr style=\"text-align: right;\">\n",
       "      <th></th>\n",
       "      <th>Id</th>\n",
       "      <th>MSSubClass</th>\n",
       "      <th>MSZoning</th>\n",
       "      <th>LotFrontage</th>\n",
       "      <th>LotArea</th>\n",
       "      <th>Street</th>\n",
       "      <th>Alley</th>\n",
       "      <th>LotShape</th>\n",
       "      <th>LandContour</th>\n",
       "      <th>Utilities</th>\n",
       "      <th>...</th>\n",
       "      <th>PoolArea</th>\n",
       "      <th>PoolQC</th>\n",
       "      <th>Fence</th>\n",
       "      <th>MiscFeature</th>\n",
       "      <th>MiscVal</th>\n",
       "      <th>MoSold</th>\n",
       "      <th>YrSold</th>\n",
       "      <th>SaleType</th>\n",
       "      <th>SaleCondition</th>\n",
       "      <th>SalePrice</th>\n",
       "    </tr>\n",
       "  </thead>\n",
       "  <tbody>\n",
       "    <tr>\n",
       "      <th>0</th>\n",
       "      <td>1</td>\n",
       "      <td>60</td>\n",
       "      <td>RL</td>\n",
       "      <td>65.0</td>\n",
       "      <td>8450</td>\n",
       "      <td>Pave</td>\n",
       "      <td>NaN</td>\n",
       "      <td>Reg</td>\n",
       "      <td>Lvl</td>\n",
       "      <td>AllPub</td>\n",
       "      <td>...</td>\n",
       "      <td>0</td>\n",
       "      <td>NaN</td>\n",
       "      <td>NaN</td>\n",
       "      <td>NaN</td>\n",
       "      <td>0</td>\n",
       "      <td>2</td>\n",
       "      <td>2008</td>\n",
       "      <td>WD</td>\n",
       "      <td>Normal</td>\n",
       "      <td>208500</td>\n",
       "    </tr>\n",
       "    <tr>\n",
       "      <th>1</th>\n",
       "      <td>2</td>\n",
       "      <td>20</td>\n",
       "      <td>RL</td>\n",
       "      <td>80.0</td>\n",
       "      <td>9600</td>\n",
       "      <td>Pave</td>\n",
       "      <td>NaN</td>\n",
       "      <td>Reg</td>\n",
       "      <td>Lvl</td>\n",
       "      <td>AllPub</td>\n",
       "      <td>...</td>\n",
       "      <td>0</td>\n",
       "      <td>NaN</td>\n",
       "      <td>NaN</td>\n",
       "      <td>NaN</td>\n",
       "      <td>0</td>\n",
       "      <td>5</td>\n",
       "      <td>2007</td>\n",
       "      <td>WD</td>\n",
       "      <td>Normal</td>\n",
       "      <td>181500</td>\n",
       "    </tr>\n",
       "    <tr>\n",
       "      <th>2</th>\n",
       "      <td>3</td>\n",
       "      <td>60</td>\n",
       "      <td>RL</td>\n",
       "      <td>68.0</td>\n",
       "      <td>11250</td>\n",
       "      <td>Pave</td>\n",
       "      <td>NaN</td>\n",
       "      <td>IR1</td>\n",
       "      <td>Lvl</td>\n",
       "      <td>AllPub</td>\n",
       "      <td>...</td>\n",
       "      <td>0</td>\n",
       "      <td>NaN</td>\n",
       "      <td>NaN</td>\n",
       "      <td>NaN</td>\n",
       "      <td>0</td>\n",
       "      <td>9</td>\n",
       "      <td>2008</td>\n",
       "      <td>WD</td>\n",
       "      <td>Normal</td>\n",
       "      <td>223500</td>\n",
       "    </tr>\n",
       "    <tr>\n",
       "      <th>3</th>\n",
       "      <td>4</td>\n",
       "      <td>70</td>\n",
       "      <td>RL</td>\n",
       "      <td>60.0</td>\n",
       "      <td>9550</td>\n",
       "      <td>Pave</td>\n",
       "      <td>NaN</td>\n",
       "      <td>IR1</td>\n",
       "      <td>Lvl</td>\n",
       "      <td>AllPub</td>\n",
       "      <td>...</td>\n",
       "      <td>0</td>\n",
       "      <td>NaN</td>\n",
       "      <td>NaN</td>\n",
       "      <td>NaN</td>\n",
       "      <td>0</td>\n",
       "      <td>2</td>\n",
       "      <td>2006</td>\n",
       "      <td>WD</td>\n",
       "      <td>Abnorml</td>\n",
       "      <td>140000</td>\n",
       "    </tr>\n",
       "    <tr>\n",
       "      <th>4</th>\n",
       "      <td>5</td>\n",
       "      <td>60</td>\n",
       "      <td>RL</td>\n",
       "      <td>84.0</td>\n",
       "      <td>14260</td>\n",
       "      <td>Pave</td>\n",
       "      <td>NaN</td>\n",
       "      <td>IR1</td>\n",
       "      <td>Lvl</td>\n",
       "      <td>AllPub</td>\n",
       "      <td>...</td>\n",
       "      <td>0</td>\n",
       "      <td>NaN</td>\n",
       "      <td>NaN</td>\n",
       "      <td>NaN</td>\n",
       "      <td>0</td>\n",
       "      <td>12</td>\n",
       "      <td>2008</td>\n",
       "      <td>WD</td>\n",
       "      <td>Normal</td>\n",
       "      <td>250000</td>\n",
       "    </tr>\n",
       "  </tbody>\n",
       "</table>\n",
       "<p>5 rows × 81 columns</p>\n",
       "</div>"
      ],
      "text/plain": [
       "   Id  MSSubClass MSZoning  LotFrontage  LotArea Street Alley LotShape  \\\n",
       "0   1          60       RL         65.0     8450   Pave   NaN      Reg   \n",
       "1   2          20       RL         80.0     9600   Pave   NaN      Reg   \n",
       "2   3          60       RL         68.0    11250   Pave   NaN      IR1   \n",
       "3   4          70       RL         60.0     9550   Pave   NaN      IR1   \n",
       "4   5          60       RL         84.0    14260   Pave   NaN      IR1   \n",
       "\n",
       "  LandContour Utilities  ... PoolArea PoolQC Fence MiscFeature MiscVal MoSold  \\\n",
       "0         Lvl    AllPub  ...        0    NaN   NaN         NaN       0      2   \n",
       "1         Lvl    AllPub  ...        0    NaN   NaN         NaN       0      5   \n",
       "2         Lvl    AllPub  ...        0    NaN   NaN         NaN       0      9   \n",
       "3         Lvl    AllPub  ...        0    NaN   NaN         NaN       0      2   \n",
       "4         Lvl    AllPub  ...        0    NaN   NaN         NaN       0     12   \n",
       "\n",
       "  YrSold  SaleType  SaleCondition  SalePrice  \n",
       "0   2008        WD         Normal     208500  \n",
       "1   2007        WD         Normal     181500  \n",
       "2   2008        WD         Normal     223500  \n",
       "3   2006        WD        Abnorml     140000  \n",
       "4   2008        WD         Normal     250000  \n",
       "\n",
       "[5 rows x 81 columns]"
      ]
     },
     "execution_count": 2,
     "metadata": {},
     "output_type": "execute_result"
    }
   ],
   "source": [
    "df = pd.read_csv(\"train.csv\")\n",
    "df.head()"
   ]
  },
  {
   "cell_type": "code",
   "execution_count": 3,
   "metadata": {},
   "outputs": [
    {
     "data": {
      "text/plain": [
       "(1460, 81)"
      ]
     },
     "execution_count": 3,
     "metadata": {},
     "output_type": "execute_result"
    }
   ],
   "source": [
    "df.shape"
   ]
  },
  {
   "cell_type": "markdown",
   "metadata": {},
   "source": [
    "We will calculate how many null values in each columns and will drop columns which have null values > 20%"
   ]
  },
  {
   "cell_type": "code",
   "execution_count": 4,
   "metadata": {},
   "outputs": [
    {
     "data": {
      "text/plain": [
       "PoolQC          1.00\n",
       "MiscFeature     0.96\n",
       "Alley           0.94\n",
       "Fence           0.81\n",
       "FireplaceQu     0.47\n",
       "LotFrontage     0.18\n",
       "GarageType      0.06\n",
       "GarageCond      0.06\n",
       "GarageYrBlt     0.06\n",
       "GarageFinish    0.06\n",
       "dtype: float64"
      ]
     },
     "execution_count": 4,
     "metadata": {},
     "output_type": "execute_result"
    }
   ],
   "source": [
    "round(df.isnull().sum()/len(df.index),2).sort_values(ascending=False).head(10)"
   ]
  },
  {
   "cell_type": "code",
   "execution_count": 5,
   "metadata": {},
   "outputs": [],
   "source": [
    "df = df.drop(['PoolQC', 'MiscFeature', 'Alley', 'Fence', 'FireplaceQu'],axis='columns')"
   ]
  },
  {
   "cell_type": "code",
   "execution_count": 6,
   "metadata": {},
   "outputs": [
    {
     "data": {
      "text/plain": [
       "Index(['Id', 'MSSubClass', 'MSZoning', 'LotFrontage', 'LotArea', 'Street',\n",
       "       'LotShape', 'LandContour', 'Utilities', 'LotConfig', 'LandSlope',\n",
       "       'Neighborhood', 'Condition1', 'Condition2', 'BldgType', 'HouseStyle',\n",
       "       'OverallQual', 'OverallCond', 'YearBuilt', 'YearRemodAdd', 'RoofStyle',\n",
       "       'RoofMatl', 'Exterior1st', 'Exterior2nd', 'MasVnrType', 'MasVnrArea',\n",
       "       'ExterQual', 'ExterCond', 'Foundation', 'BsmtQual', 'BsmtCond',\n",
       "       'BsmtExposure', 'BsmtFinType1', 'BsmtFinSF1', 'BsmtFinType2',\n",
       "       'BsmtFinSF2', 'BsmtUnfSF', 'TotalBsmtSF', 'Heating', 'HeatingQC',\n",
       "       'CentralAir', 'Electrical', '1stFlrSF', '2ndFlrSF', 'LowQualFinSF',\n",
       "       'GrLivArea', 'BsmtFullBath', 'BsmtHalfBath', 'FullBath', 'HalfBath',\n",
       "       'BedroomAbvGr', 'KitchenAbvGr', 'KitchenQual', 'TotRmsAbvGrd',\n",
       "       'Functional', 'Fireplaces', 'GarageType', 'GarageYrBlt', 'GarageFinish',\n",
       "       'GarageCars', 'GarageArea', 'GarageQual', 'GarageCond', 'PavedDrive',\n",
       "       'WoodDeckSF', 'OpenPorchSF', 'EnclosedPorch', '3SsnPorch',\n",
       "       'ScreenPorch', 'PoolArea', 'MiscVal', 'MoSold', 'YrSold', 'SaleType',\n",
       "       'SaleCondition', 'SalePrice'],\n",
       "      dtype='object')"
      ]
     },
     "execution_count": 6,
     "metadata": {},
     "output_type": "execute_result"
    }
   ],
   "source": [
    "df.columns"
   ]
  },
  {
   "cell_type": "markdown",
   "metadata": {},
   "source": [
    "## EDA"
   ]
  },
  {
   "cell_type": "code",
   "execution_count": 7,
   "metadata": {},
   "outputs": [
    {
     "data": {
      "image/png": "[encoded data removed]",
      "text/plain": [
       "<Figure size 720x360 with 1 Axes>"
      ]
     },
     "metadata": {
      "needs_background": "light"
     },
     "output_type": "display_data"
    }
   ],
   "source": [
    "plt.figure(figsize= [10,5])\n",
    "sns.boxplot(y=\"SalePrice\", x=\"YrSold\", data=df);"
   ]
  },
  {
   "cell_type": "markdown",
   "metadata": {},
   "source": [
    "The sale price of the house is mostly the same across the year sold."
   ]
  },
  {
   "cell_type": "code",
   "execution_count": 8,
   "metadata": {},
   "outputs": [
    {
     "data": {
      "image/png": "[encoded data removed]",
      "text/plain": [
       "<Figure size 720x360 with 1 Axes>"
      ]
     },
     "metadata": {
      "needs_background": "light"
     },
     "output_type": "display_data"
    }
   ],
   "source": [
    "plt.figure(figsize= [10,5])\n",
    "sns.regplot(x=df.YearBuilt, y=df.SalePrice, line_kws={\"color\":\"r\",\"alpha\":0.7,\"lw\":5},\n",
    "scatter_kws={\"color\":\"black\",\"alpha\":0.5,\"s\":30});"
   ]
  },
  {
   "cell_type": "markdown",
   "metadata": {},
   "source": [
    "We can see an increase in sales price in response to the change of the year built of the house."
   ]
  },
  {
   "cell_type": "code",
   "execution_count": 9,
   "metadata": {},
   "outputs": [
    {
     "data": {
      "image/png": "[encoded data removed]",
      "text/plain": [
       "<Figure size 1152x936 with 9 Axes>"
      ]
     },
     "metadata": {
      "needs_background": "light"
     },
     "output_type": "display_data"
    }
   ],
   "source": [
    "plt.figure(figsize=(16,13))\n",
    "plt.subplot(3,3,1)\n",
    "sns.boxplot(y=\"SalePrice\", x=\"OverallQual\", data=df);\n",
    "plt.subplot(3,3,2)\n",
    "sns.boxplot(y=\"SalePrice\", x=\"OverallCond\", data=df);\n",
    "plt.subplot(3,3,3)\n",
    "sns.boxplot(y=\"SalePrice\", x=\"GarageType\", data=df);\n",
    "plt.subplot(3,3,4)\n",
    "sns.boxplot(y=\"SalePrice\", x=\"HouseStyle\", data=df);\n",
    "plt.subplot(3,3,5)\n",
    "sns.boxplot(y=\"SalePrice\", x=\"Street\", data=df);\n",
    "plt.subplot(3,3,6)\n",
    "sns.boxplot(y=\"SalePrice\", x=\"LotShape\", data=df);\n",
    "plt.subplot(3,3,7)\n",
    "sns.boxplot(y=\"SalePrice\", x=\"LandContour\", data=df);\n",
    "plt.subplot(3,3,8)\n",
    "sns.boxplot(y=\"SalePrice\", x=\"MSZoning\", data=df);\n",
    "plt.subplot(3,3,9)\n",
    "sns.boxplot(y=\"SalePrice\", x=\"LotConfig\", data=df);"
   ]
  },
  {
   "cell_type": "markdown",
   "metadata": {},
   "source": [
    "From plot above, we can see how the sale price is varying across the independent variables.\n",
    "\n",
    "We also can see there is a noticable increase of sale price as the overall quality increases."
   ]
  },
  {
   "cell_type": "markdown",
   "metadata": {},
   "source": [
    "## Features Engineering"
   ]
  },
  {
   "cell_type": "code",
   "execution_count": 10,
   "metadata": {},
   "outputs": [
    {
     "data": {
      "text/html": [
       "<div>\n",
       "<style scoped>\n",
       "    .dataframe tbody tr th:only-of-type {\n",
       "        vertical-align: middle;\n",
       "    }\n",
       "\n",
       "    .dataframe tbody tr th {\n",
       "        vertical-align: top;\n",
       "    }\n",
       "\n",
       "    .dataframe thead th {\n",
       "        text-align: right;\n",
       "    }\n",
       "</style>\n",
       "<table border=\"1\" class=\"dataframe\">\n",
       "  <thead>\n",
       "    <tr style=\"text-align: right;\">\n",
       "      <th></th>\n",
       "      <th>YearBuilt</th>\n",
       "      <th>YearRemodAdd</th>\n",
       "      <th>GarageYrBlt</th>\n",
       "      <th>MoSold</th>\n",
       "      <th>YrSold</th>\n",
       "    </tr>\n",
       "  </thead>\n",
       "  <tbody>\n",
       "    <tr>\n",
       "      <th>0</th>\n",
       "      <td>2003</td>\n",
       "      <td>2003</td>\n",
       "      <td>2003.0</td>\n",
       "      <td>2</td>\n",
       "      <td>2008</td>\n",
       "    </tr>\n",
       "    <tr>\n",
       "      <th>1</th>\n",
       "      <td>1976</td>\n",
       "      <td>1976</td>\n",
       "      <td>1976.0</td>\n",
       "      <td>5</td>\n",
       "      <td>2007</td>\n",
       "    </tr>\n",
       "    <tr>\n",
       "      <th>2</th>\n",
       "      <td>2001</td>\n",
       "      <td>2002</td>\n",
       "      <td>2001.0</td>\n",
       "      <td>9</td>\n",
       "      <td>2008</td>\n",
       "    </tr>\n",
       "    <tr>\n",
       "      <th>3</th>\n",
       "      <td>1915</td>\n",
       "      <td>1970</td>\n",
       "      <td>1998.0</td>\n",
       "      <td>2</td>\n",
       "      <td>2006</td>\n",
       "    </tr>\n",
       "    <tr>\n",
       "      <th>4</th>\n",
       "      <td>2000</td>\n",
       "      <td>2000</td>\n",
       "      <td>2000.0</td>\n",
       "      <td>12</td>\n",
       "      <td>2008</td>\n",
       "    </tr>\n",
       "  </tbody>\n",
       "</table>\n",
       "</div>"
      ],
      "text/plain": [
       "   YearBuilt  YearRemodAdd  GarageYrBlt  MoSold  YrSold\n",
       "0       2003          2003       2003.0       2    2008\n",
       "1       1976          1976       1976.0       5    2007\n",
       "2       2001          2002       2001.0       9    2008\n",
       "3       1915          1970       1998.0       2    2006\n",
       "4       2000          2000       2000.0      12    2008"
      ]
     },
     "execution_count": 10,
     "metadata": {},
     "output_type": "execute_result"
    }
   ],
   "source": [
    "df[['YearBuilt', 'YearRemodAdd',  'GarageYrBlt', 'MoSold', 'YrSold']].head()"
   ]
  },
  {
   "cell_type": "markdown",
   "metadata": {},
   "source": [
    "We will create a new variable called **remodeled**. It will contain **Yes** if the YearBuilt and YearRemodAdd is different. It indicates the house is remodeled after the house was built. It will contain **No** if the YearBuilt and YearRemodAdd is the same, it indicates the house is in the original state since it built."
   ]
  },
  {
   "cell_type": "code",
   "execution_count": 11,
   "metadata": {},
   "outputs": [],
   "source": [
    "df['remodeled'] = np.where(df['YearBuilt']!= df['YearRemodAdd'], 'Yes', 'No')"
   ]
  },
  {
   "cell_type": "markdown",
   "metadata": {},
   "source": [
    "We want to know if the garage was built after the house is built? If the house still doesn't have a garage, then we don't consider it as it was build afterwards."
   ]
  },
  {
   "cell_type": "code",
   "execution_count": 12,
   "metadata": {},
   "outputs": [],
   "source": [
    "df['garage_post'] = np.where((df['GarageYrBlt'] == df['YearBuilt']) | (df['GarageCond'].isnull()), 'No', 'Yes')"
   ]
  },
  {
   "cell_type": "markdown",
   "metadata": {},
   "source": [
    "From the EDA, we know the YearBuilt is affected by the SalePrice. We will create a new variable **house_age**, which substracting the maximum year with the year that house was built."
   ]
  },
  {
   "cell_type": "code",
   "execution_count": 13,
   "metadata": {},
   "outputs": [],
   "source": [
    "df['house_age'] = df.YearBuilt.max() - df.YearBuilt"
   ]
  },
  {
   "cell_type": "code",
   "execution_count": 14,
   "metadata": {},
   "outputs": [
    {
     "data": {
      "image/png": "[encoded data removed]",
      "text/plain": [
       "<Figure size 1152x360 with 2 Axes>"
      ]
     },
     "metadata": {
      "needs_background": "light"
     },
     "output_type": "display_data"
    }
   ],
   "source": [
    "plt.figure(figsize= [16,5])\n",
    "plt.subplot(1,2,1)\n",
    "sns.boxplot(y=\"SalePrice\", x=\"garage_post\", data=df);\n",
    "plt.subplot(1,2,2)\n",
    "sns.boxplot(y=\"SalePrice\", x=\"remodeled\", data=df);"
   ]
  },
  {
   "cell_type": "markdown",
   "metadata": {},
   "source": [
    "**Drop the unnecessary columns**"
   ]
  },
  {
   "cell_type": "code",
   "execution_count": 15,
   "metadata": {},
   "outputs": [],
   "source": [
    "df = df.drop(['Id','YearBuilt','YearRemodAdd','GarageYrBlt','YearBuilt','MoSold'],axis='columns')"
   ]
  },
  {
   "cell_type": "markdown",
   "metadata": {},
   "source": [
    "Create a new variable **TotalSqFt_constructed** which is the sum of **GrLivArea** + **TotalBsmtSF** + **GarageArea**"
   ]
  },
  {
   "cell_type": "code",
   "execution_count": 16,
   "metadata": {},
   "outputs": [],
   "source": [
    "df['TotalSqFt_constructed'] = df['GrLivArea'] + df['TotalBsmtSF'] + df['GarageArea']\n",
    "df = df.drop(['GrLivArea', 'TotalBsmtSF', 'GarageArea'], axis='columns')"
   ]
  },
  {
   "cell_type": "markdown",
   "metadata": {},
   "source": [
    "**Fill NA with 0 if numeric and None for the rest**"
   ]
  },
  {
   "cell_type": "code",
   "execution_count": 17,
   "metadata": {},
   "outputs": [],
   "source": [
    "c = df.select_dtypes(np.number).columns\n",
    "df[c] = df[c].fillna(0)\n",
    "df = df.fillna(\"None\")"
   ]
  },
  {
   "cell_type": "markdown",
   "metadata": {},
   "source": [
    "**Make sure no null data**"
   ]
  },
  {
   "cell_type": "code",
   "execution_count": 18,
   "metadata": {},
   "outputs": [
    {
     "data": {
      "text/plain": [
       "0"
      ]
     },
     "execution_count": 18,
     "metadata": {},
     "output_type": "execute_result"
    }
   ],
   "source": [
    "df.isnull().sum().sum()"
   ]
  },
  {
   "cell_type": "code",
   "execution_count": 19,
   "metadata": {},
   "outputs": [
    {
     "data": {
      "text/plain": [
       "count      1460.000000\n",
       "mean     180921.195890\n",
       "std       79442.502883\n",
       "min       34900.000000\n",
       "25%      129975.000000\n",
       "50%      163000.000000\n",
       "75%      214000.000000\n",
       "max      755000.000000\n",
       "Name: SalePrice, dtype: float64"
      ]
     },
     "execution_count": 19,
     "metadata": {},
     "output_type": "execute_result"
    }
   ],
   "source": [
    "df.SalePrice.describe()"
   ]
  },
  {
   "cell_type": "markdown",
   "metadata": {},
   "source": [
    "**It is better if we have a target variable that is normally distributed.**\n",
    "\n",
    "**From the above description and the plot below, we could see the target variable skewed.**"
   ]
  },
  {
   "cell_type": "code",
   "execution_count": 20,
   "metadata": {},
   "outputs": [
    {
     "data": {
      "image/png": "[encoded data removed]",
      "text/plain": [
       "<Figure size 432x288 with 2 Axes>"
      ]
     },
     "metadata": {
      "needs_background": "light"
     },
     "output_type": "display_data"
    }
   ],
   "source": [
    "# Cut the window in 2 parts\n",
    "f, (ax_box, ax_hist) = plt.subplots(2, sharex=True, gridspec_kw={\"height_ratios\": (.15, .85)})\n",
    " \n",
    "# Add a graph in each part\n",
    "sns.boxplot(df.SalePrice, ax=ax_box);\n",
    "sns.distplot(df.SalePrice, ax=ax_hist);\n",
    " \n",
    "# Remove x axis name for the boxplot\n",
    "ax_box.set(xlabel='');"
   ]
  },
  {
   "cell_type": "markdown",
   "metadata": {},
   "source": [
    "**Transform the target variable with log operation and plot again to confirm it more normally distributed**"
   ]
  },
  {
   "cell_type": "code",
   "execution_count": 21,
   "metadata": {},
   "outputs": [
    {
     "data": {
      "image/png": "[encoded data removed]",
      "text/plain": [
       "<Figure size 432x288 with 2 Axes>"
      ]
     },
     "metadata": {
      "needs_background": "light"
     },
     "output_type": "display_data"
    }
   ],
   "source": [
    "df.SalePrice = np.log(df.SalePrice)\n",
    "\n",
    "# Cut the window in 2 parts\n",
    "f, (ax_box, ax_hist) = plt.subplots(2, sharex=True, gridspec_kw={\"height_ratios\": (.15, .85)})\n",
    " \n",
    "# Add a graph in each part\n",
    "sns.boxplot(df.SalePrice, ax=ax_box);\n",
    "sns.distplot(df.SalePrice, ax=ax_hist);\n",
    " \n",
    "# Remove x axis name for the boxplot\n",
    "ax_box.set(xlabel='');"
   ]
  },
  {
   "cell_type": "markdown",
   "metadata": {},
   "source": [
    "**Split the target variable and predictors**"
   ]
  },
  {
   "cell_type": "code",
   "execution_count": 22,
   "metadata": {},
   "outputs": [],
   "source": [
    "y = df.pop('SalePrice') # target\n",
    "X = df # predictors"
   ]
  },
  {
   "cell_type": "markdown",
   "metadata": {},
   "source": [
    "**Creating dummy variables for categorical variables**"
   ]
  },
  {
   "cell_type": "code",
   "execution_count": 23,
   "metadata": {},
   "outputs": [
    {
     "data": {
      "text/html": [
       "<div>\n",
       "<style scoped>\n",
       "    .dataframe tbody tr th:only-of-type {\n",
       "        vertical-align: middle;\n",
       "    }\n",
       "\n",
       "    .dataframe tbody tr th {\n",
       "        vertical-align: top;\n",
       "    }\n",
       "\n",
       "    .dataframe thead th {\n",
       "        text-align: right;\n",
       "    }\n",
       "</style>\n",
       "<table border=\"1\" class=\"dataframe\">\n",
       "  <thead>\n",
       "    <tr style=\"text-align: right;\">\n",
       "      <th></th>\n",
       "      <th>MSZoning</th>\n",
       "      <th>Street</th>\n",
       "      <th>LotShape</th>\n",
       "      <th>LandContour</th>\n",
       "      <th>Utilities</th>\n",
       "      <th>LotConfig</th>\n",
       "      <th>LandSlope</th>\n",
       "      <th>Neighborhood</th>\n",
       "      <th>Condition1</th>\n",
       "      <th>Condition2</th>\n",
       "      <th>...</th>\n",
       "      <th>Functional</th>\n",
       "      <th>GarageType</th>\n",
       "      <th>GarageFinish</th>\n",
       "      <th>GarageQual</th>\n",
       "      <th>GarageCond</th>\n",
       "      <th>PavedDrive</th>\n",
       "      <th>SaleType</th>\n",
       "      <th>SaleCondition</th>\n",
       "      <th>remodeled</th>\n",
       "      <th>garage_post</th>\n",
       "    </tr>\n",
       "  </thead>\n",
       "  <tbody>\n",
       "    <tr>\n",
       "      <th>0</th>\n",
       "      <td>RL</td>\n",
       "      <td>Pave</td>\n",
       "      <td>Reg</td>\n",
       "      <td>Lvl</td>\n",
       "      <td>AllPub</td>\n",
       "      <td>Inside</td>\n",
       "      <td>Gtl</td>\n",
       "      <td>CollgCr</td>\n",
       "      <td>Norm</td>\n",
       "      <td>Norm</td>\n",
       "      <td>...</td>\n",
       "      <td>Typ</td>\n",
       "      <td>Attchd</td>\n",
       "      <td>RFn</td>\n",
       "      <td>TA</td>\n",
       "      <td>TA</td>\n",
       "      <td>Y</td>\n",
       "      <td>WD</td>\n",
       "      <td>Normal</td>\n",
       "      <td>No</td>\n",
       "      <td>No</td>\n",
       "    </tr>\n",
       "    <tr>\n",
       "      <th>1</th>\n",
       "      <td>RL</td>\n",
       "      <td>Pave</td>\n",
       "      <td>Reg</td>\n",
       "      <td>Lvl</td>\n",
       "      <td>AllPub</td>\n",
       "      <td>FR2</td>\n",
       "      <td>Gtl</td>\n",
       "      <td>Veenker</td>\n",
       "      <td>Feedr</td>\n",
       "      <td>Norm</td>\n",
       "      <td>...</td>\n",
       "      <td>Typ</td>\n",
       "      <td>Attchd</td>\n",
       "      <td>RFn</td>\n",
       "      <td>TA</td>\n",
       "      <td>TA</td>\n",
       "      <td>Y</td>\n",
       "      <td>WD</td>\n",
       "      <td>Normal</td>\n",
       "      <td>No</td>\n",
       "      <td>No</td>\n",
       "    </tr>\n",
       "    <tr>\n",
       "      <th>2</th>\n",
       "      <td>RL</td>\n",
       "      <td>Pave</td>\n",
       "      <td>IR1</td>\n",
       "      <td>Lvl</td>\n",
       "      <td>AllPub</td>\n",
       "      <td>Inside</td>\n",
       "      <td>Gtl</td>\n",
       "      <td>CollgCr</td>\n",
       "      <td>Norm</td>\n",
       "      <td>Norm</td>\n",
       "      <td>...</td>\n",
       "      <td>Typ</td>\n",
       "      <td>Attchd</td>\n",
       "      <td>RFn</td>\n",
       "      <td>TA</td>\n",
       "      <td>TA</td>\n",
       "      <td>Y</td>\n",
       "      <td>WD</td>\n",
       "      <td>Normal</td>\n",
       "      <td>Yes</td>\n",
       "      <td>No</td>\n",
       "    </tr>\n",
       "    <tr>\n",
       "      <th>3</th>\n",
       "      <td>RL</td>\n",
       "      <td>Pave</td>\n",
       "      <td>IR1</td>\n",
       "      <td>Lvl</td>\n",
       "      <td>AllPub</td>\n",
       "      <td>Corner</td>\n",
       "      <td>Gtl</td>\n",
       "      <td>Crawfor</td>\n",
       "      <td>Norm</td>\n",
       "      <td>Norm</td>\n",
       "      <td>...</td>\n",
       "      <td>Typ</td>\n",
       "      <td>Detchd</td>\n",
       "      <td>Unf</td>\n",
       "      <td>TA</td>\n",
       "      <td>TA</td>\n",
       "      <td>Y</td>\n",
       "      <td>WD</td>\n",
       "      <td>Abnorml</td>\n",
       "      <td>Yes</td>\n",
       "      <td>Yes</td>\n",
       "    </tr>\n",
       "    <tr>\n",
       "      <th>4</th>\n",
       "      <td>RL</td>\n",
       "      <td>Pave</td>\n",
       "      <td>IR1</td>\n",
       "      <td>Lvl</td>\n",
       "      <td>AllPub</td>\n",
       "      <td>FR2</td>\n",
       "      <td>Gtl</td>\n",
       "      <td>NoRidge</td>\n",
       "      <td>Norm</td>\n",
       "      <td>Norm</td>\n",
       "      <td>...</td>\n",
       "      <td>Typ</td>\n",
       "      <td>Attchd</td>\n",
       "      <td>RFn</td>\n",
       "      <td>TA</td>\n",
       "      <td>TA</td>\n",
       "      <td>Y</td>\n",
       "      <td>WD</td>\n",
       "      <td>Normal</td>\n",
       "      <td>No</td>\n",
       "      <td>No</td>\n",
       "    </tr>\n",
       "  </tbody>\n",
       "</table>\n",
       "<p>5 rows × 40 columns</p>\n",
       "</div>"
      ],
      "text/plain": [
       "  MSZoning Street LotShape LandContour Utilities LotConfig LandSlope  \\\n",
       "0       RL   Pave      Reg         Lvl    AllPub    Inside       Gtl   \n",
       "1       RL   Pave      Reg         Lvl    AllPub       FR2       Gtl   \n",
       "2       RL   Pave      IR1         Lvl    AllPub    Inside       Gtl   \n",
       "3       RL   Pave      IR1         Lvl    AllPub    Corner       Gtl   \n",
       "4       RL   Pave      IR1         Lvl    AllPub       FR2       Gtl   \n",
       "\n",
       "  Neighborhood Condition1 Condition2  ... Functional GarageType GarageFinish  \\\n",
       "0      CollgCr       Norm       Norm  ...        Typ     Attchd          RFn   \n",
       "1      Veenker      Feedr       Norm  ...        Typ     Attchd          RFn   \n",
       "2      CollgCr       Norm       Norm  ...        Typ     Attchd          RFn   \n",
       "3      Crawfor       Norm       Norm  ...        Typ     Detchd          Unf   \n",
       "4      NoRidge       Norm       Norm  ...        Typ     Attchd          RFn   \n",
       "\n",
       "  GarageQual GarageCond PavedDrive SaleType SaleCondition remodeled  \\\n",
       "0         TA         TA          Y       WD        Normal        No   \n",
       "1         TA         TA          Y       WD        Normal        No   \n",
       "2         TA         TA          Y       WD        Normal       Yes   \n",
       "3         TA         TA          Y       WD       Abnorml       Yes   \n",
       "4         TA         TA          Y       WD        Normal        No   \n",
       "\n",
       "  garage_post  \n",
       "0          No  \n",
       "1          No  \n",
       "2          No  \n",
       "3         Yes  \n",
       "4          No  \n",
       "\n",
       "[5 rows x 40 columns]"
      ]
     },
     "execution_count": 23,
     "metadata": {},
     "output_type": "execute_result"
    }
   ],
   "source": [
    "# subset all categorical variables\n",
    "df_categorical = X.select_dtypes(include=['object'])\n",
    "df_categorical.head()"
   ]
  },
  {
   "cell_type": "code",
   "execution_count": 24,
   "metadata": {},
   "outputs": [
    {
     "data": {
      "text/html": [
       "<div>\n",
       "<style scoped>\n",
       "    .dataframe tbody tr th:only-of-type {\n",
       "        vertical-align: middle;\n",
       "    }\n",
       "\n",
       "    .dataframe tbody tr th {\n",
       "        vertical-align: top;\n",
       "    }\n",
       "\n",
       "    .dataframe thead th {\n",
       "        text-align: right;\n",
       "    }\n",
       "</style>\n",
       "<table border=\"1\" class=\"dataframe\">\n",
       "  <thead>\n",
       "    <tr style=\"text-align: right;\">\n",
       "      <th></th>\n",
       "      <th>MSZoning_FV</th>\n",
       "      <th>MSZoning_RH</th>\n",
       "      <th>MSZoning_RL</th>\n",
       "      <th>MSZoning_RM</th>\n",
       "      <th>Street_Pave</th>\n",
       "      <th>LotShape_IR2</th>\n",
       "      <th>LotShape_IR3</th>\n",
       "      <th>LotShape_Reg</th>\n",
       "      <th>LandContour_HLS</th>\n",
       "      <th>LandContour_Low</th>\n",
       "      <th>...</th>\n",
       "      <th>SaleType_New</th>\n",
       "      <th>SaleType_Oth</th>\n",
       "      <th>SaleType_WD</th>\n",
       "      <th>SaleCondition_AdjLand</th>\n",
       "      <th>SaleCondition_Alloca</th>\n",
       "      <th>SaleCondition_Family</th>\n",
       "      <th>SaleCondition_Normal</th>\n",
       "      <th>SaleCondition_Partial</th>\n",
       "      <th>remodeled_Yes</th>\n",
       "      <th>garage_post_Yes</th>\n",
       "    </tr>\n",
       "  </thead>\n",
       "  <tbody>\n",
       "    <tr>\n",
       "      <th>0</th>\n",
       "      <td>0</td>\n",
       "      <td>0</td>\n",
       "      <td>1</td>\n",
       "      <td>0</td>\n",
       "      <td>1</td>\n",
       "      <td>0</td>\n",
       "      <td>0</td>\n",
       "      <td>1</td>\n",
       "      <td>0</td>\n",
       "      <td>0</td>\n",
       "      <td>...</td>\n",
       "      <td>0</td>\n",
       "      <td>0</td>\n",
       "      <td>1</td>\n",
       "      <td>0</td>\n",
       "      <td>0</td>\n",
       "      <td>0</td>\n",
       "      <td>1</td>\n",
       "      <td>0</td>\n",
       "      <td>0</td>\n",
       "      <td>0</td>\n",
       "    </tr>\n",
       "    <tr>\n",
       "      <th>1</th>\n",
       "      <td>0</td>\n",
       "      <td>0</td>\n",
       "      <td>1</td>\n",
       "      <td>0</td>\n",
       "      <td>1</td>\n",
       "      <td>0</td>\n",
       "      <td>0</td>\n",
       "      <td>1</td>\n",
       "      <td>0</td>\n",
       "      <td>0</td>\n",
       "      <td>...</td>\n",
       "      <td>0</td>\n",
       "      <td>0</td>\n",
       "      <td>1</td>\n",
       "      <td>0</td>\n",
       "      <td>0</td>\n",
       "      <td>0</td>\n",
       "      <td>1</td>\n",
       "      <td>0</td>\n",
       "      <td>0</td>\n",
       "      <td>0</td>\n",
       "    </tr>\n",
       "    <tr>\n",
       "      <th>2</th>\n",
       "      <td>0</td>\n",
       "      <td>0</td>\n",
       "      <td>1</td>\n",
       "      <td>0</td>\n",
       "      <td>1</td>\n",
       "      <td>0</td>\n",
       "      <td>0</td>\n",
       "      <td>0</td>\n",
       "      <td>0</td>\n",
       "      <td>0</td>\n",
       "      <td>...</td>\n",
       "      <td>0</td>\n",
       "      <td>0</td>\n",
       "      <td>1</td>\n",
       "      <td>0</td>\n",
       "      <td>0</td>\n",
       "      <td>0</td>\n",
       "      <td>1</td>\n",
       "      <td>0</td>\n",
       "      <td>1</td>\n",
       "      <td>0</td>\n",
       "    </tr>\n",
       "    <tr>\n",
       "      <th>3</th>\n",
       "      <td>0</td>\n",
       "      <td>0</td>\n",
       "      <td>1</td>\n",
       "      <td>0</td>\n",
       "      <td>1</td>\n",
       "      <td>0</td>\n",
       "      <td>0</td>\n",
       "      <td>0</td>\n",
       "      <td>0</td>\n",
       "      <td>0</td>\n",
       "      <td>...</td>\n",
       "      <td>0</td>\n",
       "      <td>0</td>\n",
       "      <td>1</td>\n",
       "      <td>0</td>\n",
       "      <td>0</td>\n",
       "      <td>0</td>\n",
       "      <td>0</td>\n",
       "      <td>0</td>\n",
       "      <td>1</td>\n",
       "      <td>1</td>\n",
       "    </tr>\n",
       "    <tr>\n",
       "      <th>4</th>\n",
       "      <td>0</td>\n",
       "      <td>0</td>\n",
       "      <td>1</td>\n",
       "      <td>0</td>\n",
       "      <td>1</td>\n",
       "      <td>0</td>\n",
       "      <td>0</td>\n",
       "      <td>0</td>\n",
       "      <td>0</td>\n",
       "      <td>0</td>\n",
       "      <td>...</td>\n",
       "      <td>0</td>\n",
       "      <td>0</td>\n",
       "      <td>1</td>\n",
       "      <td>0</td>\n",
       "      <td>0</td>\n",
       "      <td>0</td>\n",
       "      <td>1</td>\n",
       "      <td>0</td>\n",
       "      <td>0</td>\n",
       "      <td>0</td>\n",
       "    </tr>\n",
       "  </tbody>\n",
       "</table>\n",
       "<p>5 rows × 208 columns</p>\n",
       "</div>"
      ],
      "text/plain": [
       "   MSZoning_FV  MSZoning_RH  MSZoning_RL  MSZoning_RM  Street_Pave  \\\n",
       "0            0            0            1            0            1   \n",
       "1            0            0            1            0            1   \n",
       "2            0            0            1            0            1   \n",
       "3            0            0            1            0            1   \n",
       "4            0            0            1            0            1   \n",
       "\n",
       "   LotShape_IR2  LotShape_IR3  LotShape_Reg  LandContour_HLS  LandContour_Low  \\\n",
       "0             0             0             1                0                0   \n",
       "1             0             0             1                0                0   \n",
       "2             0             0             0                0                0   \n",
       "3             0             0             0                0                0   \n",
       "4             0             0             0                0                0   \n",
       "\n",
       "   ...  SaleType_New  SaleType_Oth  SaleType_WD  SaleCondition_AdjLand  \\\n",
       "0  ...             0             0            1                      0   \n",
       "1  ...             0             0            1                      0   \n",
       "2  ...             0             0            1                      0   \n",
       "3  ...             0             0            1                      0   \n",
       "4  ...             0             0            1                      0   \n",
       "\n",
       "   SaleCondition_Alloca  SaleCondition_Family  SaleCondition_Normal  \\\n",
       "0                     0                     0                     1   \n",
       "1                     0                     0                     1   \n",
       "2                     0                     0                     1   \n",
       "3                     0                     0                     0   \n",
       "4                     0                     0                     1   \n",
       "\n",
       "   SaleCondition_Partial  remodeled_Yes  garage_post_Yes  \n",
       "0                      0              0                0  \n",
       "1                      0              0                0  \n",
       "2                      0              1                0  \n",
       "3                      0              1                1  \n",
       "4                      0              0                0  \n",
       "\n",
       "[5 rows x 208 columns]"
      ]
     },
     "execution_count": 24,
     "metadata": {},
     "output_type": "execute_result"
    }
   ],
   "source": [
    "# convert into dummies\n",
    "df_dummies = pd.get_dummies(df_categorical, drop_first=True)\n",
    "df_dummies.head()"
   ]
  },
  {
   "cell_type": "code",
   "execution_count": 25,
   "metadata": {},
   "outputs": [],
   "source": [
    "# drop categorical variables \n",
    "X = X.drop(list(df_categorical.columns), axis=1)\n",
    "# concat dummy variables with X\n",
    "cols = X.columns\n",
    "X = pd.DataFrame(scale(X))\n",
    "X.columns = cols\n",
    "X = pd.concat([X, df_dummies], axis=1)"
   ]
  },
  {
   "cell_type": "markdown",
   "metadata": {},
   "source": [
    "## Remove Outliers"
   ]
  },
  {
   "cell_type": "markdown",
   "metadata": {},
   "source": [
    "In this analysis, we will check if outliers exist in our data to make sure our data is learning better from the data."
   ]
  },
  {
   "cell_type": "code",
   "execution_count": 26,
   "metadata": {},
   "outputs": [
    {
     "data": {
      "image/png": "[encoded data removed]",
      "text/plain": [
       "<Figure size 432x288 with 1 Axes>"
      ]
     },
     "metadata": {
      "needs_background": "light"
     },
     "output_type": "display_data"
    }
   ],
   "source": [
    "# Plot the histogram of TotalSqFt_constructed\n",
    "plt.hist(X.TotalSqFt_constructed, bins = 60);"
   ]
  },
  {
   "cell_type": "code",
   "execution_count": 27,
   "metadata": {},
   "outputs": [
    {
     "data": {
      "text/plain": [
       "count    1.460000e+03\n",
       "mean    -2.494200e-17\n",
       "std      1.000343e+00\n",
       "min     -2.827206e+00\n",
       "25%     -6.767298e-01\n",
       "50%     -1.108972e-01\n",
       "75%      5.524118e-01\n",
       "max      1.055469e+01\n",
       "Name: TotalSqFt_constructed, dtype: float64"
      ]
     },
     "execution_count": 27,
     "metadata": {},
     "output_type": "execute_result"
    }
   ],
   "source": [
    "X.TotalSqFt_constructed.describe()"
   ]
  },
  {
   "cell_type": "markdown",
   "metadata": {},
   "source": [
    "We could see if there is a strong outlier in the TotalSqFt_constructed. \n",
    "\n",
    "There are many options for treating outliers; in this analysis, we will remove the outlier using Q3 + 1.5*IQR."
   ]
  },
  {
   "cell_type": "code",
   "execution_count": 28,
   "metadata": {},
   "outputs": [],
   "source": [
    "IQR = 0.547981 - (-0.676990)\n",
    "y = y[X.TotalSqFt_constructed <= (0.547981 + 1.5*IQR)]\n",
    "X = X[X.TotalSqFt_constructed <= (0.547981 + 1.5*IQR)]"
   ]
  },
  {
   "cell_type": "markdown",
   "metadata": {},
   "source": [
    "**Split into train and test set**"
   ]
  },
  {
   "cell_type": "code",
   "execution_count": 29,
   "metadata": {},
   "outputs": [],
   "source": [
    "# split into train and test\n",
    "from sklearn.model_selection import train_test_split\n",
    "X_train, X_test, y_train, y_test = train_test_split(X, y, \n",
    "                                                    train_size=0.75,\n",
    "                                                    test_size=0.25, random_state=541)"
   ]
  },
  {
   "cell_type": "markdown",
   "metadata": {},
   "source": [
    "## Ridge"
   ]
  },
  {
   "cell_type": "markdown",
   "metadata": {},
   "source": [
    "We will use a list of params fed into the GridSearchCV to find the optimum **alpha** parameter."
   ]
  },
  {
   "cell_type": "code",
   "execution_count": 30,
   "metadata": {},
   "outputs": [
    {
     "data": {
      "text/plain": [
       "GridSearchCV(cv=KFold(n_splits=5, random_state=42, shuffle=True),\n",
       "             estimator=Ridge(), n_jobs=-1,\n",
       "             param_grid={'alpha': [0.0001, 0.001, 0.01, 0.05, 0.1, 0.2, 0.3,\n",
       "                                   0.4, 0.5, 0.6, 0.7, 0.8, 0.9, 1.0, 2.0, 3.0,\n",
       "                                   4.0, 5.0, 6.0, 7.0, 8.0, 9.0, 10.0, 20, 50,\n",
       "                                   100]},\n",
       "             return_train_score=True, scoring='neg_mean_absolute_error')"
      ]
     },
     "execution_count": 30,
     "metadata": {},
     "output_type": "execute_result"
    }
   ],
   "source": [
    "# list of alphas to tune\n",
    "params = {'alpha': [0.0001, 0.001, 0.01, 0.05, 0.1, \n",
    " 0.2, 0.3, 0.4, 0.5, 0.6, 0.7, 0.8, 0.9, 1.0, 2.0, 3.0, \n",
    " 4.0, 5.0, 6.0, 7.0, 8.0, 9.0, 10.0, 20, 50, 100]}\n",
    "\n",
    "ridge = Ridge()\n",
    "\n",
    "# cross validation\n",
    "folds = KFold(n_splits=5,shuffle=True,random_state=42)\n",
    "model_cv = GridSearchCV(estimator = ridge, \n",
    "                        param_grid = params, \n",
    "                        scoring= 'neg_mean_absolute_error', \n",
    "                        cv = folds, \n",
    "                        return_train_score=True,\n",
    "                        n_jobs = -1)            \n",
    "model_cv.fit(X_train, y_train) "
   ]
  },
  {
   "cell_type": "code",
   "execution_count": 31,
   "metadata": {},
   "outputs": [
    {
     "data": {
      "text/html": [
       "<div>\n",
       "<style scoped>\n",
       "    .dataframe tbody tr th:only-of-type {\n",
       "        vertical-align: middle;\n",
       "    }\n",
       "\n",
       "    .dataframe tbody tr th {\n",
       "        vertical-align: top;\n",
       "    }\n",
       "\n",
       "    .dataframe thead th {\n",
       "        text-align: right;\n",
       "    }\n",
       "</style>\n",
       "<table border=\"1\" class=\"dataframe\">\n",
       "  <thead>\n",
       "    <tr style=\"text-align: right;\">\n",
       "      <th></th>\n",
       "      <th>mean_fit_time</th>\n",
       "      <th>std_fit_time</th>\n",
       "      <th>mean_score_time</th>\n",
       "      <th>std_score_time</th>\n",
       "      <th>param_alpha</th>\n",
       "      <th>params</th>\n",
       "      <th>split0_test_score</th>\n",
       "      <th>split1_test_score</th>\n",
       "      <th>split2_test_score</th>\n",
       "      <th>split3_test_score</th>\n",
       "      <th>...</th>\n",
       "      <th>mean_test_score</th>\n",
       "      <th>std_test_score</th>\n",
       "      <th>rank_test_score</th>\n",
       "      <th>split0_train_score</th>\n",
       "      <th>split1_train_score</th>\n",
       "      <th>split2_train_score</th>\n",
       "      <th>split3_train_score</th>\n",
       "      <th>split4_train_score</th>\n",
       "      <th>mean_train_score</th>\n",
       "      <th>std_train_score</th>\n",
       "    </tr>\n",
       "  </thead>\n",
       "  <tbody>\n",
       "    <tr>\n",
       "      <th>0</th>\n",
       "      <td>0.030001</td>\n",
       "      <td>0.001095</td>\n",
       "      <td>0.009600</td>\n",
       "      <td>0.002245</td>\n",
       "      <td>0.0001</td>\n",
       "      <td>{'alpha': 0.0001}</td>\n",
       "      <td>-0.085839</td>\n",
       "      <td>-0.091311</td>\n",
       "      <td>-0.087864</td>\n",
       "      <td>-0.088383</td>\n",
       "      <td>...</td>\n",
       "      <td>-0.086252</td>\n",
       "      <td>0.004545</td>\n",
       "      <td>26</td>\n",
       "      <td>-0.061942</td>\n",
       "      <td>-0.060562</td>\n",
       "      <td>-0.059228</td>\n",
       "      <td>-0.060560</td>\n",
       "      <td>-0.062705</td>\n",
       "      <td>-0.060999</td>\n",
       "      <td>0.001210</td>\n",
       "    </tr>\n",
       "    <tr>\n",
       "      <th>1</th>\n",
       "      <td>0.042197</td>\n",
       "      <td>0.014206</td>\n",
       "      <td>0.010402</td>\n",
       "      <td>0.002871</td>\n",
       "      <td>0.001</td>\n",
       "      <td>{'alpha': 0.001}</td>\n",
       "      <td>-0.085867</td>\n",
       "      <td>-0.091280</td>\n",
       "      <td>-0.087850</td>\n",
       "      <td>-0.088345</td>\n",
       "      <td>...</td>\n",
       "      <td>-0.086237</td>\n",
       "      <td>0.004541</td>\n",
       "      <td>25</td>\n",
       "      <td>-0.061955</td>\n",
       "      <td>-0.060567</td>\n",
       "      <td>-0.059232</td>\n",
       "      <td>-0.060565</td>\n",
       "      <td>-0.062710</td>\n",
       "      <td>-0.061006</td>\n",
       "      <td>0.001211</td>\n",
       "    </tr>\n",
       "    <tr>\n",
       "      <th>2</th>\n",
       "      <td>0.029403</td>\n",
       "      <td>0.002655</td>\n",
       "      <td>0.008801</td>\n",
       "      <td>0.001718</td>\n",
       "      <td>0.01</td>\n",
       "      <td>{'alpha': 0.01}</td>\n",
       "      <td>-0.086134</td>\n",
       "      <td>-0.090983</td>\n",
       "      <td>-0.087712</td>\n",
       "      <td>-0.087985</td>\n",
       "      <td>...</td>\n",
       "      <td>-0.086098</td>\n",
       "      <td>0.004493</td>\n",
       "      <td>24</td>\n",
       "      <td>-0.062043</td>\n",
       "      <td>-0.060614</td>\n",
       "      <td>-0.059279</td>\n",
       "      <td>-0.060620</td>\n",
       "      <td>-0.062763</td>\n",
       "      <td>-0.061064</td>\n",
       "      <td>0.001219</td>\n",
       "    </tr>\n",
       "    <tr>\n",
       "      <th>3</th>\n",
       "      <td>0.031002</td>\n",
       "      <td>0.002967</td>\n",
       "      <td>0.008803</td>\n",
       "      <td>0.000749</td>\n",
       "      <td>0.05</td>\n",
       "      <td>{'alpha': 0.05}</td>\n",
       "      <td>-0.086108</td>\n",
       "      <td>-0.089967</td>\n",
       "      <td>-0.087260</td>\n",
       "      <td>-0.086788</td>\n",
       "      <td>...</td>\n",
       "      <td>-0.085476</td>\n",
       "      <td>0.004313</td>\n",
       "      <td>23</td>\n",
       "      <td>-0.062269</td>\n",
       "      <td>-0.060798</td>\n",
       "      <td>-0.059424</td>\n",
       "      <td>-0.060858</td>\n",
       "      <td>-0.063046</td>\n",
       "      <td>-0.061279</td>\n",
       "      <td>0.001261</td>\n",
       "    </tr>\n",
       "    <tr>\n",
       "      <th>4</th>\n",
       "      <td>0.026398</td>\n",
       "      <td>0.001020</td>\n",
       "      <td>0.008401</td>\n",
       "      <td>0.000489</td>\n",
       "      <td>0.1</td>\n",
       "      <td>{'alpha': 0.1}</td>\n",
       "      <td>-0.085910</td>\n",
       "      <td>-0.089155</td>\n",
       "      <td>-0.086937</td>\n",
       "      <td>-0.085677</td>\n",
       "      <td>...</td>\n",
       "      <td>-0.084974</td>\n",
       "      <td>0.004081</td>\n",
       "      <td>22</td>\n",
       "      <td>-0.062509</td>\n",
       "      <td>-0.061006</td>\n",
       "      <td>-0.059574</td>\n",
       "      <td>-0.061155</td>\n",
       "      <td>-0.063294</td>\n",
       "      <td>-0.061507</td>\n",
       "      <td>0.001289</td>\n",
       "    </tr>\n",
       "  </tbody>\n",
       "</table>\n",
       "<p>5 rows × 21 columns</p>\n",
       "</div>"
      ],
      "text/plain": [
       "   mean_fit_time  std_fit_time  mean_score_time  std_score_time param_alpha  \\\n",
       "0       0.030001      0.001095         0.009600        0.002245      0.0001   \n",
       "1       0.042197      0.014206         0.010402        0.002871       0.001   \n",
       "2       0.029403      0.002655         0.008801        0.001718        0.01   \n",
       "3       0.031002      0.002967         0.008803        0.000749        0.05   \n",
       "4       0.026398      0.001020         0.008401        0.000489         0.1   \n",
       "\n",
       "              params  split0_test_score  split1_test_score  split2_test_score  \\\n",
       "0  {'alpha': 0.0001}          -0.085839          -0.091311          -0.087864   \n",
       "1   {'alpha': 0.001}          -0.085867          -0.091280          -0.087850   \n",
       "2    {'alpha': 0.01}          -0.086134          -0.090983          -0.087712   \n",
       "3    {'alpha': 0.05}          -0.086108          -0.089967          -0.087260   \n",
       "4     {'alpha': 0.1}          -0.085910          -0.089155          -0.086937   \n",
       "\n",
       "   split3_test_score  ...  mean_test_score  std_test_score  rank_test_score  \\\n",
       "0          -0.088383  ...        -0.086252        0.004545               26   \n",
       "1          -0.088345  ...        -0.086237        0.004541               25   \n",
       "2          -0.087985  ...        -0.086098        0.004493               24   \n",
       "3          -0.086788  ...        -0.085476        0.004313               23   \n",
       "4          -0.085677  ...        -0.084974        0.004081               22   \n",
       "\n",
       "   split0_train_score  split1_train_score  split2_train_score  \\\n",
       "0           -0.061942           -0.060562           -0.059228   \n",
       "1           -0.061955           -0.060567           -0.059232   \n",
       "2           -0.062043           -0.060614           -0.059279   \n",
       "3           -0.062269           -0.060798           -0.059424   \n",
       "4           -0.062509           -0.061006           -0.059574   \n",
       "\n",
       "   split3_train_score  split4_train_score  mean_train_score  std_train_score  \n",
       "0           -0.060560           -0.062705         -0.060999         0.001210  \n",
       "1           -0.060565           -0.062710         -0.061006         0.001211  \n",
       "2           -0.060620           -0.062763         -0.061064         0.001219  \n",
       "3           -0.060858           -0.063046         -0.061279         0.001261  \n",
       "4           -0.061155           -0.063294         -0.061507         0.001289  \n",
       "\n",
       "[5 rows x 21 columns]"
      ]
     },
     "execution_count": 31,
     "metadata": {},
     "output_type": "execute_result"
    }
   ],
   "source": [
    "cv_results = pd.DataFrame(model_cv.cv_results_)\n",
    "cv_results.head()"
   ]
  },
  {
   "cell_type": "code",
   "execution_count": 32,
   "metadata": {},
   "outputs": [
    {
     "data": {
      "image/png": "[encoded data removed]",
      "text/plain": [
       "<Figure size 432x288 with 1 Axes>"
      ]
     },
     "metadata": {
      "needs_background": "light"
     },
     "output_type": "display_data"
    }
   ],
   "source": [
    "# plotting mean test and train scoes with alpha \n",
    "cv_results['param_alpha'] = cv_results['param_alpha'].astype('int32')\n",
    "\n",
    "# plotting\n",
    "plt.plot(cv_results['param_alpha'], cv_results['mean_train_score'])\n",
    "plt.plot(cv_results['param_alpha'], cv_results['mean_test_score'])\n",
    "plt.xlabel('alpha')\n",
    "plt.ylabel('Negative Mean Absolute Error')\n",
    "plt.title(\"Negative Mean Absolute Error and alpha\")\n",
    "plt.legend(['train score', 'test score'], loc='upper left')\n",
    "plt.show()"
   ]
  },
  {
   "cell_type": "code",
   "execution_count": 33,
   "metadata": {},
   "outputs": [
    {
     "name": "stdout",
     "output_type": "stream",
     "text": [
      "{'alpha': 10.0}\n"
     ]
    }
   ],
   "source": [
    "print(model_cv.best_params_)"
   ]
  },
  {
   "cell_type": "markdown",
   "metadata": {},
   "source": [
    "Now we will be fine-tuning by iterating in a small range to find the optimum **alpha** parameter."
   ]
  },
  {
   "cell_type": "code",
   "execution_count": 34,
   "metadata": {},
   "outputs": [
    {
     "data": {
      "text/plain": [
       "GridSearchCV(cv=KFold(n_splits=5, random_state=42, shuffle=True),\n",
       "             estimator=Ridge(), n_jobs=-1,\n",
       "             param_grid={'alpha': array([ 9.        ,  9.05527638,  9.11055276,  9.16582915,  9.22110553,\n",
       "        9.27638191,  9.33165829,  9.38693467,  9.44221106,  9.49748744,\n",
       "        9.55276382,  9.6080402 ,  9.66331658,  9.71859296,  9.77386935,\n",
       "        9.82914573,  9.88442211,  9.93969849,  9.99497487, 10.05025126,\n",
       "       10.10552764, 10.16080...\n",
       "       18.67336683, 18.72864322, 18.7839196 , 18.83919598, 18.89447236,\n",
       "       18.94974874, 19.00502513, 19.06030151, 19.11557789, 19.17085427,\n",
       "       19.22613065, 19.28140704, 19.33668342, 19.3919598 , 19.44723618,\n",
       "       19.50251256, 19.55778894, 19.61306533, 19.66834171, 19.72361809,\n",
       "       19.77889447, 19.83417085, 19.88944724, 19.94472362, 20.        ])},\n",
       "             return_train_score=True, scoring='neg_mean_absolute_error')"
      ]
     },
     "execution_count": 34,
     "metadata": {},
     "output_type": "execute_result"
    }
   ],
   "source": [
    "params = {'alpha': np.linspace(9, 20, 200)}\n",
    "ridge = Ridge()\n",
    "# cross validation\n",
    "folds = KFold(n_splits=5,shuffle=True,random_state=42)\n",
    "model_cv = GridSearchCV(estimator = ridge, \n",
    "                        param_grid = params, \n",
    "                        scoring= 'neg_mean_absolute_error', \n",
    "                        cv = folds, \n",
    "                        return_train_score=True, \n",
    "                        n_jobs=-1)            \n",
    "model_cv.fit(X_train, y_train) "
   ]
  },
  {
   "cell_type": "code",
   "execution_count": 35,
   "metadata": {},
   "outputs": [
    {
     "data": {
      "text/plain": [
       "{'alpha': 9.331658291457286}"
      ]
     },
     "execution_count": 35,
     "metadata": {},
     "output_type": "execute_result"
    }
   ],
   "source": [
    "model_cv.best_params_"
   ]
  },
  {
   "cell_type": "code",
   "execution_count": 36,
   "metadata": {},
   "outputs": [
    {
     "data": {
      "text/plain": [
       "Ridge(alpha=9.331658291457286)"
      ]
     },
     "execution_count": 36,
     "metadata": {},
     "output_type": "execute_result"
    }
   ],
   "source": [
    "alpha = model_cv.best_params_['alpha']\n",
    "ridge = Ridge(alpha=alpha)\n",
    "ridge.fit(X_train, y_train)"
   ]
  },
  {
   "cell_type": "code",
   "execution_count": 37,
   "metadata": {},
   "outputs": [
    {
     "name": "stdout",
     "output_type": "stream",
     "text": [
      "0.937\n",
      "0.8995\n"
     ]
    }
   ],
   "source": [
    "y_pred_train = ridge.predict(X_train)\n",
    "y_pred_test = ridge.predict(X_test)\n",
    "print(round(metrics.r2_score(y_train, y_pred_train),4))\n",
    "print(round(metrics.r2_score(y_test, y_pred_test),4))"
   ]
  },
  {
   "cell_type": "code",
   "execution_count": 38,
   "metadata": {},
   "outputs": [
    {
     "name": "stdout",
     "output_type": "stream",
     "text": [
      "0.0127\n"
     ]
    }
   ],
   "source": [
    "print(round(metrics.mean_squared_error(y_test, y_pred_test),4))"
   ]
  },
  {
   "cell_type": "markdown",
   "metadata": {},
   "source": [
    "**Using all available predictors and Ridge regression with the optimum alpha parameter of 9.33, our model produces an r2 score of 0.937 for the train set and 0.8995 for the test set.**"
   ]
  },
  {
   "cell_type": "markdown",
   "metadata": {},
   "source": [
    "## Lasso"
   ]
  },
  {
   "cell_type": "markdown",
   "metadata": {},
   "source": [
    "We will use a list of params fed into the GridSearchCV to find the optimum **alpha** parameter."
   ]
  },
  {
   "cell_type": "code",
   "execution_count": 39,
   "metadata": {},
   "outputs": [
    {
     "data": {
      "text/plain": [
       "GridSearchCV(cv=KFold(n_splits=5, random_state=42, shuffle=True),\n",
       "             estimator=Lasso(), n_jobs=-1,\n",
       "             param_grid={'alpha': [0.0001, 0.001, 0.01, 0.02]},\n",
       "             return_train_score=True, scoring='neg_mean_absolute_error')"
      ]
     },
     "execution_count": 39,
     "metadata": {},
     "output_type": "execute_result"
    }
   ],
   "source": [
    "# list of alphas to tune\n",
    "params = {'alpha': [0.0001, 0.001, 0.01, 0.02]}\n",
    "\n",
    "lasso = Lasso()\n",
    "\n",
    "# cross validation\n",
    "folds = KFold(n_splits=5,shuffle=True,random_state=42)\n",
    "model_cv = GridSearchCV(estimator = lasso, \n",
    "                        param_grid = params, \n",
    "                        scoring= 'neg_mean_absolute_error', \n",
    "                        cv = folds, \n",
    "                        return_train_score=True,\n",
    "                        n_jobs = -1)            \n",
    "\n",
    "model_cv.fit(X_train, y_train) "
   ]
  },
  {
   "cell_type": "code",
   "execution_count": 40,
   "metadata": {},
   "outputs": [
    {
     "data": {
      "text/html": [
       "<div>\n",
       "<style scoped>\n",
       "    .dataframe tbody tr th:only-of-type {\n",
       "        vertical-align: middle;\n",
       "    }\n",
       "\n",
       "    .dataframe tbody tr th {\n",
       "        vertical-align: top;\n",
       "    }\n",
       "\n",
       "    .dataframe thead th {\n",
       "        text-align: right;\n",
       "    }\n",
       "</style>\n",
       "<table border=\"1\" class=\"dataframe\">\n",
       "  <thead>\n",
       "    <tr style=\"text-align: right;\">\n",
       "      <th></th>\n",
       "      <th>mean_fit_time</th>\n",
       "      <th>std_fit_time</th>\n",
       "      <th>mean_score_time</th>\n",
       "      <th>std_score_time</th>\n",
       "      <th>param_alpha</th>\n",
       "      <th>params</th>\n",
       "      <th>split0_test_score</th>\n",
       "      <th>split1_test_score</th>\n",
       "      <th>split2_test_score</th>\n",
       "      <th>split3_test_score</th>\n",
       "      <th>...</th>\n",
       "      <th>mean_test_score</th>\n",
       "      <th>std_test_score</th>\n",
       "      <th>rank_test_score</th>\n",
       "      <th>split0_train_score</th>\n",
       "      <th>split1_train_score</th>\n",
       "      <th>split2_train_score</th>\n",
       "      <th>split3_train_score</th>\n",
       "      <th>split4_train_score</th>\n",
       "      <th>mean_train_score</th>\n",
       "      <th>std_train_score</th>\n",
       "    </tr>\n",
       "  </thead>\n",
       "  <tbody>\n",
       "    <tr>\n",
       "      <th>0</th>\n",
       "      <td>0.306028</td>\n",
       "      <td>0.042028</td>\n",
       "      <td>0.014799</td>\n",
       "      <td>0.003968</td>\n",
       "      <td>0.0001</td>\n",
       "      <td>{'alpha': 0.0001}</td>\n",
       "      <td>-0.081836</td>\n",
       "      <td>-0.085961</td>\n",
       "      <td>-0.084935</td>\n",
       "      <td>-0.080091</td>\n",
       "      <td>...</td>\n",
       "      <td>-0.081639</td>\n",
       "      <td>0.003775</td>\n",
       "      <td>2</td>\n",
       "      <td>-0.065213</td>\n",
       "      <td>-0.063476</td>\n",
       "      <td>-0.062266</td>\n",
       "      <td>-0.064496</td>\n",
       "      <td>-0.065659</td>\n",
       "      <td>-0.064222</td>\n",
       "      <td>0.001225</td>\n",
       "    </tr>\n",
       "    <tr>\n",
       "      <th>1</th>\n",
       "      <td>0.166211</td>\n",
       "      <td>0.033322</td>\n",
       "      <td>0.015603</td>\n",
       "      <td>0.008261</td>\n",
       "      <td>0.001</td>\n",
       "      <td>{'alpha': 0.001}</td>\n",
       "      <td>-0.081290</td>\n",
       "      <td>-0.083585</td>\n",
       "      <td>-0.089181</td>\n",
       "      <td>-0.080360</td>\n",
       "      <td>...</td>\n",
       "      <td>-0.081581</td>\n",
       "      <td>0.005077</td>\n",
       "      <td>1</td>\n",
       "      <td>-0.075055</td>\n",
       "      <td>-0.075043</td>\n",
       "      <td>-0.071439</td>\n",
       "      <td>-0.074932</td>\n",
       "      <td>-0.075553</td>\n",
       "      <td>-0.074405</td>\n",
       "      <td>0.001498</td>\n",
       "    </tr>\n",
       "    <tr>\n",
       "      <th>2</th>\n",
       "      <td>0.037804</td>\n",
       "      <td>0.007757</td>\n",
       "      <td>0.009802</td>\n",
       "      <td>0.001721</td>\n",
       "      <td>0.01</td>\n",
       "      <td>{'alpha': 0.01}</td>\n",
       "      <td>-0.090166</td>\n",
       "      <td>-0.096040</td>\n",
       "      <td>-0.101353</td>\n",
       "      <td>-0.095909</td>\n",
       "      <td>...</td>\n",
       "      <td>-0.093750</td>\n",
       "      <td>0.005519</td>\n",
       "      <td>3</td>\n",
       "      <td>-0.093162</td>\n",
       "      <td>-0.090747</td>\n",
       "      <td>-0.089008</td>\n",
       "      <td>-0.091776</td>\n",
       "      <td>-0.093623</td>\n",
       "      <td>-0.091663</td>\n",
       "      <td>0.001673</td>\n",
       "    </tr>\n",
       "    <tr>\n",
       "      <th>3</th>\n",
       "      <td>0.027692</td>\n",
       "      <td>0.004462</td>\n",
       "      <td>0.006751</td>\n",
       "      <td>0.001902</td>\n",
       "      <td>0.02</td>\n",
       "      <td>{'alpha': 0.02}</td>\n",
       "      <td>-0.096196</td>\n",
       "      <td>-0.103244</td>\n",
       "      <td>-0.106044</td>\n",
       "      <td>-0.098226</td>\n",
       "      <td>...</td>\n",
       "      <td>-0.099313</td>\n",
       "      <td>0.004762</td>\n",
       "      <td>4</td>\n",
       "      <td>-0.099098</td>\n",
       "      <td>-0.098368</td>\n",
       "      <td>-0.095528</td>\n",
       "      <td>-0.096939</td>\n",
       "      <td>-0.099516</td>\n",
       "      <td>-0.097890</td>\n",
       "      <td>0.001471</td>\n",
       "    </tr>\n",
       "  </tbody>\n",
       "</table>\n",
       "<p>4 rows × 21 columns</p>\n",
       "</div>"
      ],
      "text/plain": [
       "   mean_fit_time  std_fit_time  mean_score_time  std_score_time param_alpha  \\\n",
       "0       0.306028      0.042028         0.014799        0.003968      0.0001   \n",
       "1       0.166211      0.033322         0.015603        0.008261       0.001   \n",
       "2       0.037804      0.007757         0.009802        0.001721        0.01   \n",
       "3       0.027692      0.004462         0.006751        0.001902        0.02   \n",
       "\n",
       "              params  split0_test_score  split1_test_score  split2_test_score  \\\n",
       "0  {'alpha': 0.0001}          -0.081836          -0.085961          -0.084935   \n",
       "1   {'alpha': 0.001}          -0.081290          -0.083585          -0.089181   \n",
       "2    {'alpha': 0.01}          -0.090166          -0.096040          -0.101353   \n",
       "3    {'alpha': 0.02}          -0.096196          -0.103244          -0.106044   \n",
       "\n",
       "   split3_test_score  ...  mean_test_score  std_test_score  rank_test_score  \\\n",
       "0          -0.080091  ...        -0.081639        0.003775                2   \n",
       "1          -0.080360  ...        -0.081581        0.005077                1   \n",
       "2          -0.095909  ...        -0.093750        0.005519                3   \n",
       "3          -0.098226  ...        -0.099313        0.004762                4   \n",
       "\n",
       "   split0_train_score  split1_train_score  split2_train_score  \\\n",
       "0           -0.065213           -0.063476           -0.062266   \n",
       "1           -0.075055           -0.075043           -0.071439   \n",
       "2           -0.093162           -0.090747           -0.089008   \n",
       "3           -0.099098           -0.098368           -0.095528   \n",
       "\n",
       "   split3_train_score  split4_train_score  mean_train_score  std_train_score  \n",
       "0           -0.064496           -0.065659         -0.064222         0.001225  \n",
       "1           -0.074932           -0.075553         -0.074405         0.001498  \n",
       "2           -0.091776           -0.093623         -0.091663         0.001673  \n",
       "3           -0.096939           -0.099516         -0.097890         0.001471  \n",
       "\n",
       "[4 rows x 21 columns]"
      ]
     },
     "execution_count": 40,
     "metadata": {},
     "output_type": "execute_result"
    }
   ],
   "source": [
    "cv_results = pd.DataFrame(model_cv.cv_results_)\n",
    "cv_results.head()"
   ]
  },
  {
   "cell_type": "code",
   "execution_count": 41,
   "metadata": {},
   "outputs": [
    {
     "data": {
      "image/png": "[encoded data removed]",
      "text/plain": [
       "<Figure size 432x288 with 1 Axes>"
      ]
     },
     "metadata": {
      "needs_background": "light"
     },
     "output_type": "display_data"
    }
   ],
   "source": [
    "# plotting mean test and train scoes with alpha \n",
    "cv_results['param_alpha'] = cv_results['param_alpha'].astype('float32')\n",
    "\n",
    "# plotting\n",
    "plt.plot(cv_results['param_alpha'], cv_results['mean_train_score'])\n",
    "plt.plot(cv_results['param_alpha'], cv_results['mean_test_score'])\n",
    "plt.xlabel('alpha')\n",
    "plt.ylabel('Negative Mean Absolute Error')\n",
    "\n",
    "plt.title(\"Negative Mean Absolute Error and alpha\")\n",
    "plt.legend(['train score', 'test score'], loc='upper left')\n",
    "plt.show()"
   ]
  },
  {
   "cell_type": "code",
   "execution_count": 42,
   "metadata": {},
   "outputs": [
    {
     "data": {
      "text/plain": [
       "{'alpha': 0.001}"
      ]
     },
     "execution_count": 42,
     "metadata": {},
     "output_type": "execute_result"
    }
   ],
   "source": [
    "model_cv.best_params_"
   ]
  },
  {
   "cell_type": "markdown",
   "metadata": {},
   "source": [
    "Now we will be fine-tuning by iterating in a small range to find the optimum **alpha** parameter."
   ]
  },
  {
   "cell_type": "code",
   "execution_count": 43,
   "metadata": {},
   "outputs": [
    {
     "data": {
      "text/plain": [
       "GridSearchCV(cv=KFold(n_splits=5, random_state=42, shuffle=True),\n",
       "             estimator=Lasso(), n_jobs=-1,\n",
       "             param_grid={'alpha': array([0.0001    , 0.00011984, 0.00013968, 0.00015952, 0.00017936,\n",
       "       0.0001992 , 0.00021904, 0.00023888, 0.00025872, 0.00027856,\n",
       "       0.0002984 , 0.00031824, 0.00033808, 0.00035792, 0.00037776,\n",
       "       0.0003976 , 0.00041743, 0.00043727, 0.00045711, 0.00047695,\n",
       "       0.00049679, 0.000516...\n",
       "       0.00942465, 0.00944449, 0.00946433, 0.00948417, 0.00950401,\n",
       "       0.00952385, 0.00954369, 0.00956353, 0.00958337, 0.00960321,\n",
       "       0.00962305, 0.00964289, 0.00966273, 0.00968257, 0.0097024 ,\n",
       "       0.00972224, 0.00974208, 0.00976192, 0.00978176, 0.0098016 ,\n",
       "       0.00982144, 0.00984128, 0.00986112, 0.00988096, 0.0099008 ,\n",
       "       0.00992064, 0.00994048, 0.00996032, 0.00998016, 0.01      ])},\n",
       "             return_train_score=True, scoring='neg_mean_absolute_error')"
      ]
     },
     "execution_count": 43,
     "metadata": {},
     "output_type": "execute_result"
    }
   ],
   "source": [
    "# list of alphas to tune\n",
    "params = {'alpha': np.linspace(0.0001, 0.01, 500)}\n",
    "\n",
    "lasso = Lasso()\n",
    "\n",
    "# cross validation\n",
    "folds = KFold(n_splits=5,shuffle=True,random_state=42)\n",
    "\n",
    "# cross validation\n",
    "model_cv = GridSearchCV(estimator = lasso, \n",
    "                        param_grid = params, \n",
    "                        scoring= 'neg_mean_absolute_error', \n",
    "                        cv = folds, \n",
    "                        return_train_score=True, \n",
    "                        n_jobs=-1)            \n",
    "\n",
    "model_cv.fit(X_train, y_train) "
   ]
  },
  {
   "cell_type": "code",
   "execution_count": 44,
   "metadata": {},
   "outputs": [
    {
     "data": {
      "text/plain": [
       "{'alpha': 0.0004372745490981964}"
      ]
     },
     "execution_count": 44,
     "metadata": {},
     "output_type": "execute_result"
    }
   ],
   "source": [
    "model_cv.best_params_"
   ]
  },
  {
   "cell_type": "code",
   "execution_count": 45,
   "metadata": {},
   "outputs": [
    {
     "data": {
      "text/plain": [
       "Lasso(alpha=0.0004372745490981964)"
      ]
     },
     "execution_count": 45,
     "metadata": {},
     "output_type": "execute_result"
    }
   ],
   "source": [
    "alpha = model_cv.best_params_['alpha']\n",
    "lasso = Lasso(alpha=alpha)\n",
    "lasso.fit(X_train, y_train)"
   ]
  },
  {
   "cell_type": "code",
   "execution_count": 46,
   "metadata": {},
   "outputs": [
    {
     "name": "stdout",
     "output_type": "stream",
     "text": [
      "0.933\n",
      "0.8964\n"
     ]
    }
   ],
   "source": [
    "y_pred_train = lasso.predict(X_train)\n",
    "y_pred_test = lasso.predict(X_test)\n",
    "print(round(metrics.r2_score(y_train, y_pred_train),4))\n",
    "print(round(metrics.r2_score(y_test, y_pred_test),4))"
   ]
  },
  {
   "cell_type": "code",
   "execution_count": 47,
   "metadata": {},
   "outputs": [
    {
     "name": "stdout",
     "output_type": "stream",
     "text": [
      "0.0131\n"
     ]
    }
   ],
   "source": [
    "print(round(metrics.mean_squared_error(y_test, y_pred_test),4))"
   ]
  },
  {
   "cell_type": "markdown",
   "metadata": {},
   "source": [
    "**Using all available predictors and Lasso regression with the optimum alpha parameter of 0.000437, our model produces an r2 score of 0.933 for the train set and 0.8964 for the test set.**"
   ]
  },
  {
   "cell_type": "markdown",
   "metadata": {},
   "source": [
    "## ElasticNet"
   ]
  },
  {
   "cell_type": "markdown",
   "metadata": {},
   "source": [
    "Elastic net is a regularized regression method that linearly combines the L1 and L2 penalties of the lasso and ridge methods.\n",
    "\n",
    "We will use a list of params fed into the GridSearchCV to find the optimum **alpha** parameter."
   ]
  },
  {
   "cell_type": "code",
   "execution_count": 48,
   "metadata": {},
   "outputs": [
    {
     "data": {
      "text/plain": [
       "GridSearchCV(cv=KFold(n_splits=5, random_state=42, shuffle=True),\n",
       "             estimator=ElasticNet(), n_jobs=-1,\n",
       "             param_grid={'alpha': [0.0001, 0.001, 0.01, 0.05, 0.1, 0.2, 0.3,\n",
       "                                   0.4, 0.5, 0.6, 0.7, 0.8, 0.9, 1.0, 2.0, 3.0,\n",
       "                                   4.0, 5.0, 6.0, 7.0, 8.0, 9.0, 10.0, 20, 50,\n",
       "                                   100, 500, 1000]},\n",
       "             return_train_score=True, scoring='neg_mean_absolute_error')"
      ]
     },
     "execution_count": 48,
     "metadata": {},
     "output_type": "execute_result"
    }
   ],
   "source": [
    "params = {'alpha': [0.0001, 0.001, 0.01, 0.05, 0.1, \n",
    " 0.2, 0.3, 0.4, 0.5, 0.6, 0.7, 0.8, 0.9, 1.0, 2.0, 3.0, \n",
    " 4.0, 5.0, 6.0, 7.0, 8.0, 9.0, 10.0, 20, 50, 100, 500, 1000]}\n",
    "\n",
    "elasticnet = ElasticNet()\n",
    "\n",
    "# cross validation\n",
    "model_cv = GridSearchCV(estimator = elasticnet, \n",
    "                        param_grid = params, \n",
    "                        scoring= 'neg_mean_absolute_error', \n",
    "                        cv = folds, \n",
    "                        return_train_score=True,\n",
    "                        n_jobs = -1)            \n",
    "\n",
    "model_cv.fit(X_train, y_train) "
   ]
  },
  {
   "cell_type": "code",
   "execution_count": 49,
   "metadata": {},
   "outputs": [
    {
     "data": {
      "text/html": [
       "<div>\n",
       "<style scoped>\n",
       "    .dataframe tbody tr th:only-of-type {\n",
       "        vertical-align: middle;\n",
       "    }\n",
       "\n",
       "    .dataframe tbody tr th {\n",
       "        vertical-align: top;\n",
       "    }\n",
       "\n",
       "    .dataframe thead th {\n",
       "        text-align: right;\n",
       "    }\n",
       "</style>\n",
       "<table border=\"1\" class=\"dataframe\">\n",
       "  <thead>\n",
       "    <tr style=\"text-align: right;\">\n",
       "      <th></th>\n",
       "      <th>mean_fit_time</th>\n",
       "      <th>std_fit_time</th>\n",
       "      <th>mean_score_time</th>\n",
       "      <th>std_score_time</th>\n",
       "      <th>param_alpha</th>\n",
       "      <th>params</th>\n",
       "      <th>split0_test_score</th>\n",
       "      <th>split1_test_score</th>\n",
       "      <th>split2_test_score</th>\n",
       "      <th>split3_test_score</th>\n",
       "      <th>...</th>\n",
       "      <th>mean_test_score</th>\n",
       "      <th>std_test_score</th>\n",
       "      <th>rank_test_score</th>\n",
       "      <th>split0_train_score</th>\n",
       "      <th>split1_train_score</th>\n",
       "      <th>split2_train_score</th>\n",
       "      <th>split3_train_score</th>\n",
       "      <th>split4_train_score</th>\n",
       "      <th>mean_train_score</th>\n",
       "      <th>std_train_score</th>\n",
       "    </tr>\n",
       "  </thead>\n",
       "  <tbody>\n",
       "    <tr>\n",
       "      <th>0</th>\n",
       "      <td>0.422344</td>\n",
       "      <td>0.076732</td>\n",
       "      <td>0.015002</td>\n",
       "      <td>0.002830</td>\n",
       "      <td>0.0001</td>\n",
       "      <td>{'alpha': 0.0001}</td>\n",
       "      <td>-0.082945</td>\n",
       "      <td>-0.087703</td>\n",
       "      <td>-0.084953</td>\n",
       "      <td>-0.082672</td>\n",
       "      <td>...</td>\n",
       "      <td>-0.082934</td>\n",
       "      <td>0.003732</td>\n",
       "      <td>2</td>\n",
       "      <td>-0.063929</td>\n",
       "      <td>-0.062253</td>\n",
       "      <td>-0.060872</td>\n",
       "      <td>-0.062817</td>\n",
       "      <td>-0.064541</td>\n",
       "      <td>-0.062882</td>\n",
       "      <td>0.001287</td>\n",
       "    </tr>\n",
       "    <tr>\n",
       "      <th>1</th>\n",
       "      <td>0.158012</td>\n",
       "      <td>0.056211</td>\n",
       "      <td>0.012602</td>\n",
       "      <td>0.002060</td>\n",
       "      <td>0.001</td>\n",
       "      <td>{'alpha': 0.001}</td>\n",
       "      <td>-0.081396</td>\n",
       "      <td>-0.080711</td>\n",
       "      <td>-0.086970</td>\n",
       "      <td>-0.079123</td>\n",
       "      <td>...</td>\n",
       "      <td>-0.080159</td>\n",
       "      <td>0.004616</td>\n",
       "      <td>1</td>\n",
       "      <td>-0.071806</td>\n",
       "      <td>-0.071265</td>\n",
       "      <td>-0.068052</td>\n",
       "      <td>-0.071693</td>\n",
       "      <td>-0.072420</td>\n",
       "      <td>-0.071047</td>\n",
       "      <td>0.001542</td>\n",
       "    </tr>\n",
       "    <tr>\n",
       "      <th>2</th>\n",
       "      <td>0.056805</td>\n",
       "      <td>0.012191</td>\n",
       "      <td>0.014200</td>\n",
       "      <td>0.004217</td>\n",
       "      <td>0.01</td>\n",
       "      <td>{'alpha': 0.01}</td>\n",
       "      <td>-0.084860</td>\n",
       "      <td>-0.093345</td>\n",
       "      <td>-0.095783</td>\n",
       "      <td>-0.091931</td>\n",
       "      <td>...</td>\n",
       "      <td>-0.089159</td>\n",
       "      <td>0.005894</td>\n",
       "      <td>3</td>\n",
       "      <td>-0.087644</td>\n",
       "      <td>-0.086032</td>\n",
       "      <td>-0.083595</td>\n",
       "      <td>-0.087081</td>\n",
       "      <td>-0.088421</td>\n",
       "      <td>-0.086555</td>\n",
       "      <td>0.001672</td>\n",
       "    </tr>\n",
       "    <tr>\n",
       "      <th>3</th>\n",
       "      <td>0.041601</td>\n",
       "      <td>0.013351</td>\n",
       "      <td>0.017600</td>\n",
       "      <td>0.002939</td>\n",
       "      <td>0.05</td>\n",
       "      <td>{'alpha': 0.05}</td>\n",
       "      <td>-0.099689</td>\n",
       "      <td>-0.107398</td>\n",
       "      <td>-0.108856</td>\n",
       "      <td>-0.101108</td>\n",
       "      <td>...</td>\n",
       "      <td>-0.102692</td>\n",
       "      <td>0.004714</td>\n",
       "      <td>4</td>\n",
       "      <td>-0.102279</td>\n",
       "      <td>-0.101630</td>\n",
       "      <td>-0.098904</td>\n",
       "      <td>-0.100238</td>\n",
       "      <td>-0.102865</td>\n",
       "      <td>-0.101184</td>\n",
       "      <td>0.001437</td>\n",
       "    </tr>\n",
       "    <tr>\n",
       "      <th>4</th>\n",
       "      <td>0.043604</td>\n",
       "      <td>0.010249</td>\n",
       "      <td>0.015603</td>\n",
       "      <td>0.002243</td>\n",
       "      <td>0.1</td>\n",
       "      <td>{'alpha': 0.1}</td>\n",
       "      <td>-0.118790</td>\n",
       "      <td>-0.126219</td>\n",
       "      <td>-0.124516</td>\n",
       "      <td>-0.120626</td>\n",
       "      <td>...</td>\n",
       "      <td>-0.121200</td>\n",
       "      <td>0.003767</td>\n",
       "      <td>5</td>\n",
       "      <td>-0.120128</td>\n",
       "      <td>-0.119352</td>\n",
       "      <td>-0.119044</td>\n",
       "      <td>-0.119418</td>\n",
       "      <td>-0.122784</td>\n",
       "      <td>-0.120145</td>\n",
       "      <td>0.001366</td>\n",
       "    </tr>\n",
       "  </tbody>\n",
       "</table>\n",
       "<p>5 rows × 21 columns</p>\n",
       "</div>"
      ],
      "text/plain": [
       "   mean_fit_time  std_fit_time  mean_score_time  std_score_time param_alpha  \\\n",
       "0       0.422344      0.076732         0.015002        0.002830      0.0001   \n",
       "1       0.158012      0.056211         0.012602        0.002060       0.001   \n",
       "2       0.056805      0.012191         0.014200        0.004217        0.01   \n",
       "3       0.041601      0.013351         0.017600        0.002939        0.05   \n",
       "4       0.043604      0.010249         0.015603        0.002243         0.1   \n",
       "\n",
       "              params  split0_test_score  split1_test_score  split2_test_score  \\\n",
       "0  {'alpha': 0.0001}          -0.082945          -0.087703          -0.084953   \n",
       "1   {'alpha': 0.001}          -0.081396          -0.080711          -0.086970   \n",
       "2    {'alpha': 0.01}          -0.084860          -0.093345          -0.095783   \n",
       "3    {'alpha': 0.05}          -0.099689          -0.107398          -0.108856   \n",
       "4     {'alpha': 0.1}          -0.118790          -0.126219          -0.124516   \n",
       "\n",
       "   split3_test_score  ...  mean_test_score  std_test_score  rank_test_score  \\\n",
       "0          -0.082672  ...        -0.082934        0.003732                2   \n",
       "1          -0.079123  ...        -0.080159        0.004616                1   \n",
       "2          -0.091931  ...        -0.089159        0.005894                3   \n",
       "3          -0.101108  ...        -0.102692        0.004714                4   \n",
       "4          -0.120626  ...        -0.121200        0.003767                5   \n",
       "\n",
       "   split0_train_score  split1_train_score  split2_train_score  \\\n",
       "0           -0.063929           -0.062253           -0.060872   \n",
       "1           -0.071806           -0.071265           -0.068052   \n",
       "2           -0.087644           -0.086032           -0.083595   \n",
       "3           -0.102279           -0.101630           -0.098904   \n",
       "4           -0.120128           -0.119352           -0.119044   \n",
       "\n",
       "   split3_train_score  split4_train_score  mean_train_score  std_train_score  \n",
       "0           -0.062817           -0.064541         -0.062882         0.001287  \n",
       "1           -0.071693           -0.072420         -0.071047         0.001542  \n",
       "2           -0.087081           -0.088421         -0.086555         0.001672  \n",
       "3           -0.100238           -0.102865         -0.101184         0.001437  \n",
       "4           -0.119418           -0.122784         -0.120145         0.001366  \n",
       "\n",
       "[5 rows x 21 columns]"
      ]
     },
     "execution_count": 49,
     "metadata": {},
     "output_type": "execute_result"
    }
   ],
   "source": [
    "cv_results = pd.DataFrame(model_cv.cv_results_)\n",
    "cv_results.head()"
   ]
  },
  {
   "cell_type": "code",
   "execution_count": 50,
   "metadata": {},
   "outputs": [
    {
     "data": {
      "image/png": "[encoded data removed]",
      "text/plain": [
       "<Figure size 432x288 with 1 Axes>"
      ]
     },
     "metadata": {
      "needs_background": "light"
     },
     "output_type": "display_data"
    }
   ],
   "source": [
    "# plotting mean test and train scoes with alpha \n",
    "cv_results['param_alpha'] = cv_results['param_alpha'].astype('float32')\n",
    "\n",
    "# plotting\n",
    "plt.plot(np.log10(cv_results['param_alpha']), cv_results['mean_train_score'])\n",
    "plt.plot(np.log10(cv_results['param_alpha']), cv_results['mean_test_score'])\n",
    "plt.xlabel('log10(alpha)')\n",
    "plt.ylabel('Negative Mean Absolute Error')\n",
    "\n",
    "plt.title(\"Negative Mean Absolute Error and alpha\")\n",
    "plt.legend(['train score', 'test score'], loc='upper left')\n",
    "plt.show()"
   ]
  },
  {
   "cell_type": "code",
   "execution_count": 51,
   "metadata": {
    "scrolled": true
   },
   "outputs": [
    {
     "data": {
      "text/plain": [
       "{'alpha': 0.001}"
      ]
     },
     "execution_count": 51,
     "metadata": {},
     "output_type": "execute_result"
    }
   ],
   "source": [
    "model_cv.best_params_"
   ]
  },
  {
   "cell_type": "markdown",
   "metadata": {},
   "source": [
    "Now we will be fine-tuning by iterating in a small range to find the optimum **alpha** parameter."
   ]
  },
  {
   "cell_type": "code",
   "execution_count": 52,
   "metadata": {},
   "outputs": [
    {
     "data": {
      "text/plain": [
       "GridSearchCV(cv=KFold(n_splits=5, random_state=42, shuffle=True),\n",
       "             estimator=ElasticNet(), n_jobs=-1,\n",
       "             param_grid={'alpha': array([0.00000000e+00, 4.00801603e-06, 8.01603206e-06, 1.20240481e-05,\n",
       "       1.60320641e-05, 2.00400802e-05, 2.40480962e-05, 2.80561122e-05,\n",
       "       3.20641283e-05, 3.60721443e-05, 4.00801603e-05, 4.40881764e-05,\n",
       "       4.80961924e-05, 5.21042084e-05, 5.61122244e-05, 6....\n",
       "       1.92384770e-03, 1.92785571e-03, 1.93186373e-03, 1.93587174e-03,\n",
       "       1.93987976e-03, 1.94388778e-03, 1.94789579e-03, 1.95190381e-03,\n",
       "       1.95591182e-03, 1.95991984e-03, 1.96392786e-03, 1.96793587e-03,\n",
       "       1.97194389e-03, 1.97595190e-03, 1.97995992e-03, 1.98396794e-03,\n",
       "       1.98797595e-03, 1.99198397e-03, 1.99599198e-03, 2.00000000e-03])},\n",
       "             return_train_score=True, scoring='neg_mean_absolute_error')"
      ]
     },
     "execution_count": 52,
     "metadata": {},
     "output_type": "execute_result"
    }
   ],
   "source": [
    "# list of alphas to tune\n",
    "params = {'alpha': np.linspace(0, 0.002, 500)}\n",
    "elasticnet = ElasticNet()\n",
    "# cross validation\n",
    "folds = KFold(n_splits=5,shuffle=True,random_state=42)\n",
    "model_cv = GridSearchCV(estimator = elasticnet, \n",
    "                        param_grid = params, \n",
    "                        scoring= 'neg_mean_absolute_error', \n",
    "                        cv = folds, \n",
    "                        return_train_score=True,\n",
    "                        n_jobs = -1)            \n",
    "\n",
    "model_cv.fit(X_train, y_train) "
   ]
  },
  {
   "cell_type": "code",
   "execution_count": 53,
   "metadata": {},
   "outputs": [
    {
     "data": {
      "text/plain": [
       "{'alpha': 0.0010861723446893787}"
      ]
     },
     "execution_count": 53,
     "metadata": {},
     "output_type": "execute_result"
    }
   ],
   "source": [
    "model_cv.best_params_"
   ]
  },
  {
   "cell_type": "code",
   "execution_count": 54,
   "metadata": {},
   "outputs": [
    {
     "data": {
      "text/plain": [
       "ElasticNet(alpha=0.0010861723446893787)"
      ]
     },
     "execution_count": 54,
     "metadata": {},
     "output_type": "execute_result"
    }
   ],
   "source": [
    "alpha = model_cv.best_params_['alpha']\n",
    "\n",
    "elasticnet = ElasticNet(alpha=alpha)\n",
    "        \n",
    "elasticnet.fit(X_train, y_train) "
   ]
  },
  {
   "cell_type": "code",
   "execution_count": 55,
   "metadata": {},
   "outputs": [
    {
     "name": "stdout",
     "output_type": "stream",
     "text": [
      "0.9308\n",
      "0.8959\n"
     ]
    }
   ],
   "source": [
    "y_pred_train = elasticnet.predict(X_train)\n",
    "y_pred_test = elasticnet.predict(X_test)\n",
    "print(round(metrics.r2_score(y_train, y_pred_train),4))\n",
    "print(round(metrics.r2_score(y_test, y_pred_test),4))"
   ]
  },
  {
   "cell_type": "code",
   "execution_count": 56,
   "metadata": {},
   "outputs": [
    {
     "name": "stdout",
     "output_type": "stream",
     "text": [
      "0.0131\n"
     ]
    }
   ],
   "source": [
    "print(round(metrics.mean_squared_error(y_test, y_pred_test),4))"
   ]
  },
  {
   "cell_type": "markdown",
   "metadata": {},
   "source": [
    "**Using all available predictors and ElasticNet regression with the optimum alpha parameter of 0.001086, our model produces an r2 score of 0.9308 for the train set and 0.8959 for the test set.**"
   ]
  },
  {
   "cell_type": "markdown",
   "metadata": {},
   "source": [
    "### Summary\n",
    "\n",
    "Using all predictors available, all three regularizations produce virtually the same results.\n",
    "\n",
    "In the next section, we will try to use feature selection to trim the number of variables used."
   ]
  },
  {
   "cell_type": "markdown",
   "metadata": {},
   "source": [
    "## Forward Feature Selection\n"
   ]
  },
  {
   "cell_type": "code",
   "execution_count": 57,
   "metadata": {},
   "outputs": [
    {
     "data": {
      "text/plain": [
       "(1076, 239)"
      ]
     },
     "execution_count": 57,
     "metadata": {},
     "output_type": "execute_result"
    }
   ],
   "source": [
    "X_train.shape"
   ]
  },
  {
   "cell_type": "markdown",
   "metadata": {},
   "source": [
    "We will use AIC and BIC to measure the information gain/loss by adding/removing variables."
   ]
  },
  {
   "cell_type": "code",
   "execution_count": 58,
   "metadata": {},
   "outputs": [],
   "source": [
    "def calculate_aic(n, mse, num_params):\n",
    "    aic = n * np.log(mse) + 2 * num_params\n",
    "    return aic\n",
    "\n",
    "def calculate_bic(n, mse, num_params):\n",
    "    bic = n * np.log(mse) + np.log(n) * num_params\n",
    "    return bic"
   ]
  },
  {
   "cell_type": "markdown",
   "metadata": {},
   "source": [
    "**Using forward feature selection, we will pick ten variables according to their AIC/BIC**"
   ]
  },
  {
   "cell_type": "code",
   "execution_count": 59,
   "metadata": {
    "scrolled": true
   },
   "outputs": [
    {
     "name": "stdout",
     "output_type": "stream",
     "text": [
      "Selected features:  ['TotalSqFt_constructed'] \n",
      "AIC:  -3364.396711669093 \n",
      "BIC:  -3354.4347001876495\n",
      "Selected features:  ['TotalSqFt_constructed', 'OverallQual'] \n",
      "AIC:  -3841.780046528153 \n",
      "BIC:  -3826.837029305988\n",
      "Selected features:  ['TotalSqFt_constructed', 'OverallQual', 'BsmtUnfSF'] \n",
      "AIC:  -3990.5423814654273 \n",
      "BIC:  -3970.6183585025406\n",
      "Selected features:  ['TotalSqFt_constructed', 'OverallQual', 'BsmtUnfSF', 'house_age'] \n",
      "AIC:  -4076.018161242638 \n",
      "BIC:  -4051.1131325390297\n",
      "Selected features:  ['TotalSqFt_constructed', 'OverallQual', 'BsmtUnfSF', 'house_age', 'OverallCond'] \n",
      "AIC:  -4266.389597153047 \n",
      "BIC:  -4236.503562708717\n",
      "Selected features:  ['TotalSqFt_constructed', 'OverallQual', 'BsmtUnfSF', 'house_age', 'OverallCond', 'Neighborhood_Crawfor'] \n",
      "AIC:  -4369.177856360046 \n",
      "BIC:  -4334.310816174993\n",
      "Selected features:  ['TotalSqFt_constructed', 'OverallQual', 'BsmtUnfSF', 'house_age', 'OverallCond', 'Neighborhood_Crawfor', 'Foundation_PConc'] \n",
      "AIC:  -4401.69773768701 \n",
      "BIC:  -4361.8496917612365\n",
      "Selected features:  ['TotalSqFt_constructed', 'OverallQual', 'BsmtUnfSF', 'house_age', 'OverallCond', 'Neighborhood_Crawfor', 'Foundation_PConc', 'Fireplaces'] \n",
      "AIC:  -4439.865654578691 \n",
      "BIC:  -4395.036602912195\n",
      "Selected features:  ['TotalSqFt_constructed', 'OverallQual', 'BsmtUnfSF', 'house_age', 'OverallCond', 'Neighborhood_Crawfor', 'Foundation_PConc', 'Fireplaces', 'BldgType_Twnhs'] \n",
      "AIC:  -4470.468847699022 \n",
      "BIC:  -4420.658790291805\n",
      "Selected features:  ['TotalSqFt_constructed', 'OverallQual', 'BsmtUnfSF', 'house_age', 'OverallCond', 'Neighborhood_Crawfor', 'Foundation_PConc', 'Fireplaces', 'BldgType_Twnhs', 'SaleCondition_Partial'] \n",
      "AIC:  -4493.918162843517 \n",
      "BIC:  -4439.127099695578\n",
      "\n",
      "\n",
      "Final r-squared:  0.8781161162780505\n"
     ]
    }
   ],
   "source": [
    "features = X_train.columns\n",
    "\n",
    "regression = LinearRegression()\n",
    "\n",
    "selected_features = []\n",
    "min_aic = np.inf\n",
    "for step in range(0, 10, 1):\n",
    "    for feature in features:\n",
    "        testing_features = selected_features + [feature]\n",
    "        regression.fit(X_train[testing_features], y_train)\n",
    "        y_pred = regression.predict(X_test[testing_features])\n",
    "        mse = metrics.mean_squared_error(y_test, y_pred)\n",
    "        num_params = len(regression.coef_) + 1  # features and intercept\n",
    "        n = X_train.shape[0]\n",
    "        aic = calculate_aic(n, mse, num_params)\n",
    "        bic = calculate_bic(n, mse, num_params)\n",
    "        if aic < min_aic:\n",
    "            min_aic = aic\n",
    "            current_bic = bic\n",
    "            best_feature = feature\n",
    "    selected_features = selected_features + [best_feature]\n",
    "    print(\"Selected features: \", selected_features, \"\\nAIC: \", min_aic, \"\\nBIC: \", current_bic)\n",
    "\n",
    "y_pred = regression.predict(X_test[selected_features])\n",
    "print(\"\\n\\nFinal r-squared: \", metrics.r2_score(y_test, y_pred))"
   ]
  },
  {
   "cell_type": "markdown",
   "metadata": {},
   "source": [
    "Assign the selected features into a new object."
   ]
  },
  {
   "cell_type": "code",
   "execution_count": 60,
   "metadata": {},
   "outputs": [],
   "source": [
    "X_train_select = X_train[selected_features]\n",
    "X_test_select = X_test[selected_features]"
   ]
  },
  {
   "cell_type": "markdown",
   "metadata": {},
   "source": [
    "### Selected Variables + Ridge"
   ]
  },
  {
   "cell_type": "markdown",
   "metadata": {},
   "source": [
    "We will use a list of params fed into the GridSearchCV to find the optimum **alpha** parameter."
   ]
  },
  {
   "cell_type": "code",
   "execution_count": 61,
   "metadata": {},
   "outputs": [
    {
     "data": {
      "text/plain": [
       "GridSearchCV(cv=KFold(n_splits=5, random_state=42, shuffle=True),\n",
       "             estimator=Ridge(), n_jobs=-1,\n",
       "             param_grid={'alpha': [0.0001, 0.001, 0.01, 0.05, 0.1, 0.2, 0.3,\n",
       "                                   0.4, 0.5, 0.6, 0.7, 0.8, 0.9, 1.0, 2.0, 3.0,\n",
       "                                   4.0, 5.0, 10]},\n",
       "             return_train_score=True, scoring='neg_mean_absolute_error')"
      ]
     },
     "execution_count": 61,
     "metadata": {},
     "output_type": "execute_result"
    }
   ],
   "source": [
    "# list of alphas to tune\n",
    "params = {'alpha': [0.0001, 0.001, 0.01, 0.05, 0.1, \n",
    " 0.2, 0.3, 0.4, 0.5, 0.6, 0.7, 0.8, 0.9, 1.0, 2.0, 3.0, 4.0, 5.0, 10]}\n",
    "ridge = Ridge()\n",
    "# cross validation\n",
    "folds = KFold(n_splits=5,shuffle=True,random_state=42)\n",
    "model_cv = GridSearchCV(estimator = ridge, \n",
    "                        param_grid = params, \n",
    "                        scoring= 'neg_mean_absolute_error', \n",
    "                        cv = folds, \n",
    "                        return_train_score=True,\n",
    "                        n_jobs = -1)            \n",
    "model_cv.fit(X_train_select, y_train) "
   ]
  },
  {
   "cell_type": "code",
   "execution_count": 62,
   "metadata": {},
   "outputs": [
    {
     "data": {
      "image/png": "[encoded data removed]",
      "text/plain": [
       "<Figure size 432x288 with 1 Axes>"
      ]
     },
     "metadata": {
      "needs_background": "light"
     },
     "output_type": "display_data"
    }
   ],
   "source": [
    "cv_results = pd.DataFrame(model_cv.cv_results_)\n",
    "# plotting mean test and train scoes with alpha \n",
    "cv_results['param_alpha'] = cv_results['param_alpha'].astype('int32')\n",
    "\n",
    "# plotting\n",
    "plt.plot(cv_results['param_alpha'], cv_results['mean_train_score'])\n",
    "plt.plot(cv_results['param_alpha'], cv_results['mean_test_score'])\n",
    "plt.xlabel('alpha')\n",
    "plt.ylabel('Negative Mean Absolute Error')\n",
    "plt.title(\"Negative Mean Absolute Error and alpha\")\n",
    "plt.legend(['train score', 'test score'], loc='upper left')\n",
    "plt.show()"
   ]
  },
  {
   "cell_type": "code",
   "execution_count": 63,
   "metadata": {},
   "outputs": [
    {
     "data": {
      "text/plain": [
       "{'alpha': 5.0}"
      ]
     },
     "execution_count": 63,
     "metadata": {},
     "output_type": "execute_result"
    }
   ],
   "source": [
    "model_cv.best_params_"
   ]
  },
  {
   "cell_type": "markdown",
   "metadata": {},
   "source": [
    "Now we will be fine-tuning by iterating in a small range to find the optimum **alpha** parameter."
   ]
  },
  {
   "cell_type": "code",
   "execution_count": 64,
   "metadata": {},
   "outputs": [
    {
     "data": {
      "text/plain": [
       "GridSearchCV(cv=KFold(n_splits=5, random_state=42, shuffle=True),\n",
       "             estimator=Ridge(), n_jobs=-1,\n",
       "             param_grid={'alpha': array([ 4.        ,  4.03015075,  4.06030151,  4.09045226,  4.12060302,\n",
       "        4.15075377,  4.18090452,  4.21105528,  4.24120603,  4.27135678,\n",
       "        4.30150754,  4.33165829,  4.36180905,  4.3919598 ,  4.42211055,\n",
       "        4.45226131,  4.48241206,  4.51256281,  4.54271357,  4.57286432,\n",
       "        4.60301508,  4.63316583...\n",
       "        9.12562814,  9.15577889,  9.18592965,  9.2160804 ,  9.24623116,\n",
       "        9.27638191,  9.30653266,  9.33668342,  9.36683417,  9.39698492,\n",
       "        9.42713568,  9.45728643,  9.48743719,  9.51758794,  9.54773869,\n",
       "        9.57788945,  9.6080402 ,  9.63819095,  9.66834171,  9.69849246,\n",
       "        9.72864322,  9.75879397,  9.78894472,  9.81909548,  9.84924623,\n",
       "        9.87939698,  9.90954774,  9.93969849,  9.96984925, 10.        ])},\n",
       "             return_train_score=True, scoring='neg_mean_absolute_error')"
      ]
     },
     "execution_count": 64,
     "metadata": {},
     "output_type": "execute_result"
    }
   ],
   "source": [
    "# list of alphas to tune\n",
    "params = {'alpha': np.linspace(4, 10, 200)}\n",
    "\n",
    "ridge = Ridge()\n",
    "\n",
    "# cross validation\n",
    "folds = KFold(n_splits=5,shuffle=True,random_state=42)\n",
    "\n",
    "# cross validation\n",
    "model_cv = GridSearchCV(estimator = ridge, \n",
    "                        param_grid = params, \n",
    "                        scoring= 'neg_mean_absolute_error', \n",
    "                        cv = folds, \n",
    "                        return_train_score=True,\n",
    "                        n_jobs = -1)            \n",
    "\n",
    "model_cv.fit(X_train_select, y_train) "
   ]
  },
  {
   "cell_type": "code",
   "execution_count": 65,
   "metadata": {},
   "outputs": [
    {
     "data": {
      "text/plain": [
       "{'alpha': 4.9045226130653266}"
      ]
     },
     "execution_count": 65,
     "metadata": {},
     "output_type": "execute_result"
    }
   ],
   "source": [
    "model_cv.best_params_"
   ]
  },
  {
   "cell_type": "code",
   "execution_count": 66,
   "metadata": {},
   "outputs": [
    {
     "data": {
      "text/plain": [
       "Ridge(alpha=4.9045226130653266)"
      ]
     },
     "execution_count": 66,
     "metadata": {},
     "output_type": "execute_result"
    }
   ],
   "source": [
    "alpha = model_cv.best_params_['alpha']\n",
    "ridge = Ridge(alpha=alpha)\n",
    "ridge.fit(X_train_select, y_train)"
   ]
  },
  {
   "cell_type": "code",
   "execution_count": 67,
   "metadata": {},
   "outputs": [
    {
     "name": "stdout",
     "output_type": "stream",
     "text": [
      "0.8926\n",
      "0.8801\n"
     ]
    }
   ],
   "source": [
    "y_pred_train = ridge.predict(X_train_select)\n",
    "y_pred_test = ridge.predict(X_test_select)\n",
    "print(round(metrics.r2_score(y_train, y_pred_train),4))\n",
    "print(round(metrics.r2_score(y_test, y_pred_test),4))"
   ]
  },
  {
   "cell_type": "code",
   "execution_count": 68,
   "metadata": {},
   "outputs": [
    {
     "name": "stdout",
     "output_type": "stream",
     "text": [
      "0.0151\n"
     ]
    }
   ],
   "source": [
    "print(round(metrics.mean_squared_error(y_test, y_pred_test),4))"
   ]
  },
  {
   "cell_type": "markdown",
   "metadata": {},
   "source": [
    "**Using ten predictors and Ridge regression with the optimum alpha parameter of 4.9045, our model produces an r2 score of 0.8926 for the train set and 0.8801 for the test set.**"
   ]
  },
  {
   "cell_type": "code",
   "execution_count": 69,
   "metadata": {},
   "outputs": [
    {
     "data": {
      "image/png": "[encoded data removed]",
      "text/plain": [
       "<Figure size 432x288 with 1 Axes>"
      ]
     },
     "metadata": {
      "needs_background": "light"
     },
     "output_type": "display_data"
    }
   ],
   "source": [
    "sns.regplot(y_test, y_pred_test, line_kws={\"color\":\"r\",\"alpha\":0.7,\"lw\":4}, scatter_kws={\"color\":\"black\",\"alpha\":0.5,\"s\":30})\n",
    "plt.xlabel('Observed Test Values')\n",
    "plt.ylabel('Predicted Test Values')\n",
    "\n",
    "plt.title(\"Observed vs Predicted Values (Test Set)\")\n",
    "plt.show()"
   ]
  },
  {
   "cell_type": "code",
   "execution_count": 70,
   "metadata": {
    "scrolled": true
   },
   "outputs": [
    {
     "data": {
      "text/html": [
       "<div>\n",
       "<style scoped>\n",
       "    .dataframe tbody tr th:only-of-type {\n",
       "        vertical-align: middle;\n",
       "    }\n",
       "\n",
       "    .dataframe tbody tr th {\n",
       "        vertical-align: top;\n",
       "    }\n",
       "\n",
       "    .dataframe thead th {\n",
       "        text-align: right;\n",
       "    }\n",
       "</style>\n",
       "<table border=\"1\" class=\"dataframe\">\n",
       "  <thead>\n",
       "    <tr style=\"text-align: right;\">\n",
       "      <th></th>\n",
       "      <th>Feature</th>\n",
       "      <th>Coef</th>\n",
       "      <th>abs_coef</th>\n",
       "    </tr>\n",
       "  </thead>\n",
       "  <tbody>\n",
       "    <tr>\n",
       "      <th>3</th>\n",
       "      <td>house_age</td>\n",
       "      <td>0.080</td>\n",
       "      <td>0.080</td>\n",
       "    </tr>\n",
       "    <tr>\n",
       "      <th>9</th>\n",
       "      <td>SaleCondition_Partial</td>\n",
       "      <td>0.064</td>\n",
       "      <td>0.064</td>\n",
       "    </tr>\n",
       "    <tr>\n",
       "      <th>4</th>\n",
       "      <td>OverallCond</td>\n",
       "      <td>0.056</td>\n",
       "      <td>0.056</td>\n",
       "    </tr>\n",
       "    <tr>\n",
       "      <th>6</th>\n",
       "      <td>Foundation_PConc</td>\n",
       "      <td>0.022</td>\n",
       "      <td>0.022</td>\n",
       "    </tr>\n",
       "    <tr>\n",
       "      <th>2</th>\n",
       "      <td>BsmtUnfSF</td>\n",
       "      <td>0.015</td>\n",
       "      <td>0.015</td>\n",
       "    </tr>\n",
       "    <tr>\n",
       "      <th>0</th>\n",
       "      <td>TotalSqFt_constructed</td>\n",
       "      <td>-0.007</td>\n",
       "      <td>0.007</td>\n",
       "    </tr>\n",
       "    <tr>\n",
       "      <th>7</th>\n",
       "      <td>Fireplaces</td>\n",
       "      <td>0.006</td>\n",
       "      <td>0.006</td>\n",
       "    </tr>\n",
       "    <tr>\n",
       "      <th>8</th>\n",
       "      <td>BldgType_Twnhs</td>\n",
       "      <td>-0.004</td>\n",
       "      <td>0.004</td>\n",
       "    </tr>\n",
       "    <tr>\n",
       "      <th>1</th>\n",
       "      <td>OverallQual</td>\n",
       "      <td>0.002</td>\n",
       "      <td>0.002</td>\n",
       "    </tr>\n",
       "    <tr>\n",
       "      <th>5</th>\n",
       "      <td>Neighborhood_Crawfor</td>\n",
       "      <td>0.001</td>\n",
       "      <td>0.001</td>\n",
       "    </tr>\n",
       "  </tbody>\n",
       "</table>\n",
       "</div>"
      ],
      "text/plain": [
       "                 Feature   Coef  abs_coef\n",
       "3              house_age  0.080     0.080\n",
       "9  SaleCondition_Partial  0.064     0.064\n",
       "4            OverallCond  0.056     0.056\n",
       "6       Foundation_PConc  0.022     0.022\n",
       "2              BsmtUnfSF  0.015     0.015\n",
       "0  TotalSqFt_constructed -0.007     0.007\n",
       "7             Fireplaces  0.006     0.006\n",
       "8         BldgType_Twnhs -0.004     0.004\n",
       "1            OverallQual  0.002     0.002\n",
       "5   Neighborhood_Crawfor  0.001     0.001"
      ]
     },
     "execution_count": 70,
     "metadata": {},
     "output_type": "execute_result"
    }
   ],
   "source": [
    "model_parameters = list(elasticnet.coef_)\n",
    "model_parameters = [round(x, 3) for x in model_parameters]\n",
    "cols = X_train_select.columns\n",
    "coef = pd.DataFrame(list(zip(cols,model_parameters)))\n",
    "coef.columns = ['Feature','Coef']\n",
    "coef['abs_coef'] = abs(coef.Coef)\n",
    "coef = coef.sort_values(by='abs_coef',ascending=False)\n",
    "coef"
   ]
  },
  {
   "cell_type": "code",
   "execution_count": 71,
   "metadata": {},
   "outputs": [
    {
     "data": {
      "image/png": "[encoded data removed]",
      "text/plain": [
       "<Figure size 432x288 with 1 Axes>"
      ]
     },
     "metadata": {
      "needs_background": "light"
     },
     "output_type": "display_data"
    }
   ],
   "source": [
    "sns.barplot(y = 'Feature', x='abs_coef', palette='Set2', data = coef)\n",
    "plt.show()"
   ]
  },
  {
   "cell_type": "markdown",
   "metadata": {},
   "source": [
    "### Selected Variables + Lasso"
   ]
  },
  {
   "cell_type": "markdown",
   "metadata": {},
   "source": [
    "We will use a list of params fed into the GridSearchCV to find the optimum **alpha** parameter."
   ]
  },
  {
   "cell_type": "code",
   "execution_count": 72,
   "metadata": {},
   "outputs": [
    {
     "data": {
      "text/plain": [
       "GridSearchCV(cv=KFold(n_splits=5, random_state=42, shuffle=True),\n",
       "             estimator=Lasso(), n_jobs=-1,\n",
       "             param_grid={'alpha': [0.0001, 0.001, 0.01, 0.02]},\n",
       "             return_train_score=True, scoring='neg_mean_absolute_error')"
      ]
     },
     "execution_count": 72,
     "metadata": {},
     "output_type": "execute_result"
    }
   ],
   "source": [
    "# list of alphas to tune\n",
    "params = {'alpha': [0.0001, 0.001, 0.01, 0.02]}\n",
    "\n",
    "lasso = Lasso()\n",
    "\n",
    "# cross validation\n",
    "folds = KFold(n_splits=5,shuffle=True,random_state=42)\n",
    "model_cv = GridSearchCV(estimator = lasso, \n",
    "                        param_grid = params, \n",
    "                        scoring= 'neg_mean_absolute_error', \n",
    "                        cv = folds, \n",
    "                        return_train_score=True,\n",
    "                        n_jobs = -1)            \n",
    "\n",
    "model_cv.fit(X_train_select, y_train) "
   ]
  },
  {
   "cell_type": "code",
   "execution_count": 73,
   "metadata": {},
   "outputs": [
    {
     "data": {
      "image/png": "[encoded data removed]",
      "text/plain": [
       "<Figure size 432x288 with 1 Axes>"
      ]
     },
     "metadata": {
      "needs_background": "light"
     },
     "output_type": "display_data"
    }
   ],
   "source": [
    "cv_results = pd.DataFrame(model_cv.cv_results_)\n",
    "# plotting mean test and train scoes with alpha \n",
    "cv_results['param_alpha'] = cv_results['param_alpha'].astype('float32')\n",
    "\n",
    "# plotting\n",
    "plt.plot(cv_results['param_alpha'], cv_results['mean_train_score'])\n",
    "plt.plot(cv_results['param_alpha'], cv_results['mean_test_score'])\n",
    "plt.xlabel('alpha')\n",
    "plt.ylabel('Negative Mean Absolute Error')\n",
    "\n",
    "plt.title(\"Negative Mean Absolute Error and alpha\")\n",
    "plt.legend(['train score', 'test score'], loc='upper left')\n",
    "plt.show()"
   ]
  },
  {
   "cell_type": "code",
   "execution_count": 74,
   "metadata": {},
   "outputs": [
    {
     "data": {
      "text/plain": [
       "{'alpha': 0.0001}"
      ]
     },
     "execution_count": 74,
     "metadata": {},
     "output_type": "execute_result"
    }
   ],
   "source": [
    "model_cv.best_params_"
   ]
  },
  {
   "cell_type": "markdown",
   "metadata": {},
   "source": [
    "Now we will be fine-tuning by iterating in a small range to find the optimum **alpha** parameter."
   ]
  },
  {
   "cell_type": "code",
   "execution_count": 75,
   "metadata": {},
   "outputs": [
    {
     "data": {
      "text/plain": [
       "GridSearchCV(cv=KFold(n_splits=5, random_state=42, shuffle=True),\n",
       "             estimator=Lasso(), n_jobs=-1,\n",
       "             param_grid={'alpha': array([0.00000000e+00, 5.02512563e-06, 1.00502513e-05, 1.50753769e-05,\n",
       "       2.01005025e-05, 2.51256281e-05, 3.01507538e-05, 3.51758794e-05,\n",
       "       4.02010050e-05, 4.52261307e-05, 5.02512563e-05, 5.52763819e-05,\n",
       "       6.03015075e-05, 6.53266332e-05, 7.03517588e-05, 7.53768...\n",
       "       9.04522613e-04, 9.09547739e-04, 9.14572864e-04, 9.19597990e-04,\n",
       "       9.24623116e-04, 9.29648241e-04, 9.34673367e-04, 9.39698492e-04,\n",
       "       9.44723618e-04, 9.49748744e-04, 9.54773869e-04, 9.59798995e-04,\n",
       "       9.64824121e-04, 9.69849246e-04, 9.74874372e-04, 9.79899497e-04,\n",
       "       9.84924623e-04, 9.89949749e-04, 9.94974874e-04, 1.00000000e-03])},\n",
       "             return_train_score=True, scoring='neg_mean_absolute_error')"
      ]
     },
     "execution_count": 75,
     "metadata": {},
     "output_type": "execute_result"
    }
   ],
   "source": [
    "# list of alphas to tune\n",
    "params = {'alpha': np.linspace(0, 0.001, 200)}\n",
    "\n",
    "lasso = Lasso()\n",
    "\n",
    "# cross validation\n",
    "folds = KFold(n_splits=5,shuffle=True,random_state=42)\n",
    "\n",
    "# cross validation\n",
    "model_cv = GridSearchCV(estimator = lasso, \n",
    "                        param_grid = params, \n",
    "                        scoring= 'neg_mean_absolute_error', \n",
    "                        cv = folds, \n",
    "                        return_train_score=True,\n",
    "                        n_jobs = -1)            \n",
    "\n",
    "model_cv.fit(X_train_select, y_train) "
   ]
  },
  {
   "cell_type": "code",
   "execution_count": 76,
   "metadata": {},
   "outputs": [
    {
     "data": {
      "text/plain": [
       "{'alpha': 0.00031155778894472364}"
      ]
     },
     "execution_count": 76,
     "metadata": {},
     "output_type": "execute_result"
    }
   ],
   "source": [
    "model_cv.best_params_"
   ]
  },
  {
   "cell_type": "code",
   "execution_count": 77,
   "metadata": {},
   "outputs": [
    {
     "data": {
      "text/plain": [
       "Lasso(alpha=0.00031155778894472364)"
      ]
     },
     "execution_count": 77,
     "metadata": {},
     "output_type": "execute_result"
    }
   ],
   "source": [
    "alpha = model_cv.best_params_['alpha']\n",
    "lasso = Lasso(alpha=alpha)\n",
    "lasso.fit(X_train_select, y_train)"
   ]
  },
  {
   "cell_type": "code",
   "execution_count": 78,
   "metadata": {},
   "outputs": [
    {
     "name": "stdout",
     "output_type": "stream",
     "text": [
      "0.8926\n",
      "0.8801\n"
     ]
    }
   ],
   "source": [
    "y_pred_train = lasso.predict(X_train_select)\n",
    "y_pred_test = lasso.predict(X_test_select)\n",
    "print(round(metrics.r2_score(y_train, y_pred_train),4))\n",
    "print(round(metrics.r2_score(y_test, y_pred_test),4))"
   ]
  },
  {
   "cell_type": "code",
   "execution_count": 79,
   "metadata": {},
   "outputs": [
    {
     "name": "stdout",
     "output_type": "stream",
     "text": [
      "0.0151\n"
     ]
    }
   ],
   "source": [
    "print(round(metrics.mean_squared_error(y_test, y_pred_test),4))"
   ]
  },
  {
   "cell_type": "markdown",
   "metadata": {},
   "source": [
    "**Using ten predictors and Lasso regression with the optimum alpha parameter of 0.000312, our model produces an r2 score of 0.8926 for the train set and 0.8801 for the test set.**"
   ]
  },
  {
   "cell_type": "code",
   "execution_count": 80,
   "metadata": {},
   "outputs": [
    {
     "data": {
      "image/png": "[encoded data removed]",
      "text/plain": [
       "<Figure size 432x288 with 1 Axes>"
      ]
     },
     "metadata": {
      "needs_background": "light"
     },
     "output_type": "display_data"
    }
   ],
   "source": [
    "sns.regplot(y_test, y_pred_test, line_kws={\"color\":\"r\",\"alpha\":0.7,\"lw\":4}, scatter_kws={\"color\":\"black\",\"alpha\":0.5,\"s\":30})\n",
    "plt.xlabel('Observed Test Values')\n",
    "plt.ylabel('Predicted Test Values')\n",
    "\n",
    "plt.title(\"Observed vs Predicted Values (Test Set)\")\n",
    "plt.show()"
   ]
  },
  {
   "cell_type": "code",
   "execution_count": 81,
   "metadata": {
    "scrolled": true
   },
   "outputs": [
    {
     "data": {
      "text/html": [
       "<div>\n",
       "<style scoped>\n",
       "    .dataframe tbody tr th:only-of-type {\n",
       "        vertical-align: middle;\n",
       "    }\n",
       "\n",
       "    .dataframe tbody tr th {\n",
       "        vertical-align: top;\n",
       "    }\n",
       "\n",
       "    .dataframe thead th {\n",
       "        text-align: right;\n",
       "    }\n",
       "</style>\n",
       "<table border=\"1\" class=\"dataframe\">\n",
       "  <thead>\n",
       "    <tr style=\"text-align: right;\">\n",
       "      <th></th>\n",
       "      <th>Feature</th>\n",
       "      <th>Coef</th>\n",
       "      <th>abs_coef</th>\n",
       "    </tr>\n",
       "  </thead>\n",
       "  <tbody>\n",
       "    <tr>\n",
       "      <th>3</th>\n",
       "      <td>house_age</td>\n",
       "      <td>0.080</td>\n",
       "      <td>0.080</td>\n",
       "    </tr>\n",
       "    <tr>\n",
       "      <th>9</th>\n",
       "      <td>SaleCondition_Partial</td>\n",
       "      <td>0.064</td>\n",
       "      <td>0.064</td>\n",
       "    </tr>\n",
       "    <tr>\n",
       "      <th>4</th>\n",
       "      <td>OverallCond</td>\n",
       "      <td>0.056</td>\n",
       "      <td>0.056</td>\n",
       "    </tr>\n",
       "    <tr>\n",
       "      <th>6</th>\n",
       "      <td>Foundation_PConc</td>\n",
       "      <td>0.022</td>\n",
       "      <td>0.022</td>\n",
       "    </tr>\n",
       "    <tr>\n",
       "      <th>2</th>\n",
       "      <td>BsmtUnfSF</td>\n",
       "      <td>0.015</td>\n",
       "      <td>0.015</td>\n",
       "    </tr>\n",
       "    <tr>\n",
       "      <th>0</th>\n",
       "      <td>TotalSqFt_constructed</td>\n",
       "      <td>-0.007</td>\n",
       "      <td>0.007</td>\n",
       "    </tr>\n",
       "    <tr>\n",
       "      <th>7</th>\n",
       "      <td>Fireplaces</td>\n",
       "      <td>0.006</td>\n",
       "      <td>0.006</td>\n",
       "    </tr>\n",
       "    <tr>\n",
       "      <th>8</th>\n",
       "      <td>BldgType_Twnhs</td>\n",
       "      <td>-0.004</td>\n",
       "      <td>0.004</td>\n",
       "    </tr>\n",
       "    <tr>\n",
       "      <th>1</th>\n",
       "      <td>OverallQual</td>\n",
       "      <td>0.002</td>\n",
       "      <td>0.002</td>\n",
       "    </tr>\n",
       "    <tr>\n",
       "      <th>5</th>\n",
       "      <td>Neighborhood_Crawfor</td>\n",
       "      <td>0.001</td>\n",
       "      <td>0.001</td>\n",
       "    </tr>\n",
       "  </tbody>\n",
       "</table>\n",
       "</div>"
      ],
      "text/plain": [
       "                 Feature   Coef  abs_coef\n",
       "3              house_age  0.080     0.080\n",
       "9  SaleCondition_Partial  0.064     0.064\n",
       "4            OverallCond  0.056     0.056\n",
       "6       Foundation_PConc  0.022     0.022\n",
       "2              BsmtUnfSF  0.015     0.015\n",
       "0  TotalSqFt_constructed -0.007     0.007\n",
       "7             Fireplaces  0.006     0.006\n",
       "8         BldgType_Twnhs -0.004     0.004\n",
       "1            OverallQual  0.002     0.002\n",
       "5   Neighborhood_Crawfor  0.001     0.001"
      ]
     },
     "execution_count": 81,
     "metadata": {},
     "output_type": "execute_result"
    }
   ],
   "source": [
    "model_parameters = list(elasticnet.coef_)\n",
    "model_parameters = [round(x, 3) for x in model_parameters]\n",
    "cols = X_train_select.columns\n",
    "coef = pd.DataFrame(list(zip(cols,model_parameters)))\n",
    "coef.columns = ['Feature','Coef']\n",
    "coef['abs_coef'] = abs(coef.Coef)\n",
    "coef = coef.sort_values(by='abs_coef',ascending=False)\n",
    "coef"
   ]
  },
  {
   "cell_type": "code",
   "execution_count": 82,
   "metadata": {},
   "outputs": [
    {
     "data": {
      "image/png": "[encoded data removed]",
      "text/plain": [
       "<Figure size 432x288 with 1 Axes>"
      ]
     },
     "metadata": {
      "needs_background": "light"
     },
     "output_type": "display_data"
    }
   ],
   "source": [
    "sns.barplot(y = 'Feature', x='abs_coef', palette='Set2', data = coef)\n",
    "plt.show()"
   ]
  },
  {
   "cell_type": "markdown",
   "metadata": {},
   "source": [
    "### Selected Variables + ElasticNet"
   ]
  },
  {
   "cell_type": "markdown",
   "metadata": {},
   "source": [
    "Elastic net is a regularized regression method that linearly combines the L1 and L2 penalties of the lasso and ridge methods.\n",
    "\n",
    "We will use a list of params fed into the GridSearchCV to find the optimum **alpha** parameter."
   ]
  },
  {
   "cell_type": "code",
   "execution_count": 83,
   "metadata": {},
   "outputs": [
    {
     "data": {
      "text/plain": [
       "GridSearchCV(cv=KFold(n_splits=5, random_state=42, shuffle=True),\n",
       "             estimator=ElasticNet(), n_jobs=-1,\n",
       "             param_grid={'alpha': [0.0001, 0.001, 0.01, 0.05, 0.1, 0.2, 0.3,\n",
       "                                   0.4, 0.5, 0.6, 0.7, 0.8, 0.9, 1.0, 2.0, 3.0,\n",
       "                                   4.0, 5.0, 6.0, 7.0, 8.0, 9.0, 10.0, 20, 50,\n",
       "                                   100, 500, 1000]},\n",
       "             return_train_score=True, scoring='neg_mean_absolute_error')"
      ]
     },
     "execution_count": 83,
     "metadata": {},
     "output_type": "execute_result"
    }
   ],
   "source": [
    "params = {'alpha': [0.0001, 0.001, 0.01, 0.05, 0.1, \n",
    " 0.2, 0.3, 0.4, 0.5, 0.6, 0.7, 0.8, 0.9, 1.0, 2.0, 3.0, \n",
    " 4.0, 5.0, 6.0, 7.0, 8.0, 9.0, 10.0, 20, 50, 100, 500, 1000]}\n",
    "\n",
    "elasticnet = ElasticNet()\n",
    "\n",
    "# cross validation\n",
    "model_cv = GridSearchCV(estimator = elasticnet, \n",
    "                        param_grid = params, \n",
    "                        scoring= 'neg_mean_absolute_error', \n",
    "                        cv = folds, \n",
    "                        return_train_score=True,\n",
    "                        n_jobs = -1)            \n",
    "\n",
    "model_cv.fit(X_train_select, y_train) "
   ]
  },
  {
   "cell_type": "code",
   "execution_count": 84,
   "metadata": {},
   "outputs": [
    {
     "data": {
      "image/png": "[encoded data removed]",
      "text/plain": [
       "<Figure size 432x288 with 1 Axes>"
      ]
     },
     "metadata": {
      "needs_background": "light"
     },
     "output_type": "display_data"
    }
   ],
   "source": [
    "cv_results = pd.DataFrame(model_cv.cv_results_)\n",
    "# plotting mean test and train scoes with alpha \n",
    "cv_results['param_alpha'] = cv_results['param_alpha'].astype('float32')\n",
    "\n",
    "# plotting\n",
    "plt.plot(np.log10(cv_results['param_alpha']), cv_results['mean_train_score'])\n",
    "plt.plot(np.log10(cv_results['param_alpha']), cv_results['mean_test_score'])\n",
    "plt.xlabel('log10(alpha)')\n",
    "plt.ylabel('Negative Mean Absolute Error')\n",
    "\n",
    "plt.title(\"Negative Mean Absolute Error and alpha\")\n",
    "plt.legend(['train score', 'test score'], loc='upper left')\n",
    "plt.show()"
   ]
  },
  {
   "cell_type": "code",
   "execution_count": 85,
   "metadata": {},
   "outputs": [
    {
     "data": {
      "text/plain": [
       "{'alpha': 0.001}"
      ]
     },
     "execution_count": 85,
     "metadata": {},
     "output_type": "execute_result"
    }
   ],
   "source": [
    "model_cv.best_params_"
   ]
  },
  {
   "cell_type": "markdown",
   "metadata": {},
   "source": [
    "Now we will be fine-tuning by iterating in a small range to find the optimum **alpha** parameter."
   ]
  },
  {
   "cell_type": "code",
   "execution_count": 86,
   "metadata": {},
   "outputs": [
    {
     "data": {
      "text/plain": [
       "GridSearchCV(cv=KFold(n_splits=5, random_state=42, shuffle=True),\n",
       "             estimator=ElasticNet(), n_jobs=-1,\n",
       "             param_grid={'alpha': array([0.00000000e+00, 4.00801603e-06, 8.01603206e-06, 1.20240481e-05,\n",
       "       1.60320641e-05, 2.00400802e-05, 2.40480962e-05, 2.80561122e-05,\n",
       "       3.20641283e-05, 3.60721443e-05, 4.00801603e-05, 4.40881764e-05,\n",
       "       4.80961924e-05, 5.21042084e-05, 5.61122244e-05, 6....\n",
       "       1.92384770e-03, 1.92785571e-03, 1.93186373e-03, 1.93587174e-03,\n",
       "       1.93987976e-03, 1.94388778e-03, 1.94789579e-03, 1.95190381e-03,\n",
       "       1.95591182e-03, 1.95991984e-03, 1.96392786e-03, 1.96793587e-03,\n",
       "       1.97194389e-03, 1.97595190e-03, 1.97995992e-03, 1.98396794e-03,\n",
       "       1.98797595e-03, 1.99198397e-03, 1.99599198e-03, 2.00000000e-03])},\n",
       "             return_train_score=True, scoring='neg_mean_absolute_error')"
      ]
     },
     "execution_count": 86,
     "metadata": {},
     "output_type": "execute_result"
    }
   ],
   "source": [
    "# list of alphas to tune\n",
    "params = {'alpha': np.linspace(0, 0.002, 500)}\n",
    "elasticnet = ElasticNet()\n",
    "# cross validation\n",
    "folds = KFold(n_splits=5,shuffle=True,random_state=42)\n",
    "model_cv = GridSearchCV(estimator = elasticnet, \n",
    "                        param_grid = params, \n",
    "                        scoring= 'neg_mean_absolute_error', \n",
    "                        cv = folds, \n",
    "                        return_train_score=True,\n",
    "                        n_jobs = -1)            \n",
    "\n",
    "model_cv.fit(X_train_select, y_train) "
   ]
  },
  {
   "cell_type": "code",
   "execution_count": 87,
   "metadata": {},
   "outputs": [
    {
     "data": {
      "text/plain": [
       "{'alpha': 0.0006092184368737475}"
      ]
     },
     "execution_count": 87,
     "metadata": {},
     "output_type": "execute_result"
    }
   ],
   "source": [
    "model_cv.best_params_"
   ]
  },
  {
   "cell_type": "code",
   "execution_count": 88,
   "metadata": {},
   "outputs": [
    {
     "data": {
      "text/plain": [
       "ElasticNet(alpha=0.0006092184368737475)"
      ]
     },
     "execution_count": 88,
     "metadata": {},
     "output_type": "execute_result"
    }
   ],
   "source": [
    "alpha = model_cv.best_params_['alpha']\n",
    "\n",
    "elasticnet = ElasticNet(alpha=alpha)\n",
    "        \n",
    "elasticnet.fit(X_train_select, y_train) "
   ]
  },
  {
   "cell_type": "code",
   "execution_count": 89,
   "metadata": {},
   "outputs": [
    {
     "name": "stdout",
     "output_type": "stream",
     "text": [
      "0.8926\n",
      "0.8801\n"
     ]
    }
   ],
   "source": [
    "y_pred_train = elasticnet.predict(X_train_select)\n",
    "y_pred_test = elasticnet.predict(X_test_select)\n",
    "print(round(metrics.r2_score(y_train, y_pred_train),4))\n",
    "print(round(metrics.r2_score(y_test, y_pred_test),4))"
   ]
  },
  {
   "cell_type": "code",
   "execution_count": 90,
   "metadata": {},
   "outputs": [
    {
     "name": "stdout",
     "output_type": "stream",
     "text": [
      "0.0151\n"
     ]
    }
   ],
   "source": [
    "print(round(metrics.mean_squared_error(y_test, y_pred_test),4))"
   ]
  },
  {
   "cell_type": "markdown",
   "metadata": {},
   "source": [
    "**Using ten predictors and ElasticNet regression with the optimum alpha parameter of 0.000609, our model produces an r2 score of 0.8926 for the train set and 0.8801 for the test set.**"
   ]
  },
  {
   "cell_type": "code",
   "execution_count": 91,
   "metadata": {},
   "outputs": [
    {
     "data": {
      "image/png": "[encoded data removed]",
      "text/plain": [
       "<Figure size 432x288 with 1 Axes>"
      ]
     },
     "metadata": {
      "needs_background": "light"
     },
     "output_type": "display_data"
    }
   ],
   "source": [
    "sns.regplot(y_test, y_pred_test, line_kws={\"color\":\"r\",\"alpha\":0.7,\"lw\":4}, scatter_kws={\"color\":\"black\",\"alpha\":0.5,\"s\":30})\n",
    "plt.xlabel('Observed Test Values')\n",
    "plt.ylabel('Predicted Test Values')\n",
    "\n",
    "plt.title(\"Observed vs Predicted Values (Test Set)\")\n",
    "plt.show()"
   ]
  },
  {
   "cell_type": "code",
   "execution_count": 92,
   "metadata": {},
   "outputs": [
    {
     "data": {
      "text/html": [
       "<div>\n",
       "<style scoped>\n",
       "    .dataframe tbody tr th:only-of-type {\n",
       "        vertical-align: middle;\n",
       "    }\n",
       "\n",
       "    .dataframe tbody tr th {\n",
       "        vertical-align: top;\n",
       "    }\n",
       "\n",
       "    .dataframe thead th {\n",
       "        text-align: right;\n",
       "    }\n",
       "</style>\n",
       "<table border=\"1\" class=\"dataframe\">\n",
       "  <thead>\n",
       "    <tr style=\"text-align: right;\">\n",
       "      <th></th>\n",
       "      <th>Feature</th>\n",
       "      <th>Coef</th>\n",
       "      <th>abs_coef</th>\n",
       "    </tr>\n",
       "  </thead>\n",
       "  <tbody>\n",
       "    <tr>\n",
       "      <th>0</th>\n",
       "      <td>MSSubClass</td>\n",
       "      <td>0.245</td>\n",
       "      <td>0.245</td>\n",
       "    </tr>\n",
       "    <tr>\n",
       "      <th>8</th>\n",
       "      <td>BsmtUnfSF</td>\n",
       "      <td>-0.110</td>\n",
       "      <td>0.110</td>\n",
       "    </tr>\n",
       "    <tr>\n",
       "      <th>5</th>\n",
       "      <td>MasVnrArea</td>\n",
       "      <td>0.104</td>\n",
       "      <td>0.104</td>\n",
       "    </tr>\n",
       "    <tr>\n",
       "      <th>1</th>\n",
       "      <td>LotFrontage</td>\n",
       "      <td>0.098</td>\n",
       "      <td>0.098</td>\n",
       "    </tr>\n",
       "    <tr>\n",
       "      <th>3</th>\n",
       "      <td>OverallQual</td>\n",
       "      <td>-0.096</td>\n",
       "      <td>0.096</td>\n",
       "    </tr>\n",
       "    <tr>\n",
       "      <th>4</th>\n",
       "      <td>OverallCond</td>\n",
       "      <td>0.068</td>\n",
       "      <td>0.068</td>\n",
       "    </tr>\n",
       "    <tr>\n",
       "      <th>9</th>\n",
       "      <td>1stFlrSF</td>\n",
       "      <td>0.061</td>\n",
       "      <td>0.061</td>\n",
       "    </tr>\n",
       "    <tr>\n",
       "      <th>6</th>\n",
       "      <td>BsmtFinSF1</td>\n",
       "      <td>0.057</td>\n",
       "      <td>0.057</td>\n",
       "    </tr>\n",
       "    <tr>\n",
       "      <th>2</th>\n",
       "      <td>LotArea</td>\n",
       "      <td>-0.043</td>\n",
       "      <td>0.043</td>\n",
       "    </tr>\n",
       "    <tr>\n",
       "      <th>7</th>\n",
       "      <td>BsmtFinSF2</td>\n",
       "      <td>0.033</td>\n",
       "      <td>0.033</td>\n",
       "    </tr>\n",
       "  </tbody>\n",
       "</table>\n",
       "</div>"
      ],
      "text/plain": [
       "       Feature   Coef  abs_coef\n",
       "0   MSSubClass  0.245     0.245\n",
       "8    BsmtUnfSF -0.110     0.110\n",
       "5   MasVnrArea  0.104     0.104\n",
       "1  LotFrontage  0.098     0.098\n",
       "3  OverallQual -0.096     0.096\n",
       "4  OverallCond  0.068     0.068\n",
       "9     1stFlrSF  0.061     0.061\n",
       "6   BsmtFinSF1  0.057     0.057\n",
       "2      LotArea -0.043     0.043\n",
       "7   BsmtFinSF2  0.033     0.033"
      ]
     },
     "execution_count": 92,
     "metadata": {},
     "output_type": "execute_result"
    }
   ],
   "source": [
    "model_parameters = list(elasticnet.coef_)\n",
    "model_parameters = [round(x, 3) for x in model_parameters]\n",
    "cols = X.columns\n",
    "coef = pd.DataFrame(list(zip(cols,model_parameters)))\n",
    "coef.columns = ['Feature','Coef']\n",
    "coef['abs_coef'] = abs(coef.Coef)\n",
    "coef = coef.sort_values(by='abs_coef',ascending=False)\n",
    "coef"
   ]
  },
  {
   "cell_type": "code",
   "execution_count": 93,
   "metadata": {},
   "outputs": [
    {
     "data": {
      "image/png": "[encoded data removed]",
      "text/plain": [
       "<Figure size 432x288 with 1 Axes>"
      ]
     },
     "metadata": {
      "needs_background": "light"
     },
     "output_type": "display_data"
    }
   ],
   "source": [
    "sns.barplot(y = 'Feature', x='abs_coef', palette='Set2', data = coef)\n",
    "plt.show()"
   ]
  },
  {
   "cell_type": "markdown",
   "metadata": {},
   "source": [
    "### Summary\n",
    "\n",
    "After creating models in Ridge, Lasso and ElasticNet, we can see that r2_score of train and test set is almost the same, only tiny differences exist!"
   ]
  },
  {
   "cell_type": "markdown",
   "metadata": {},
   "source": [
    "# Conclusion"
   ]
  },
  {
   "cell_type": "markdown",
   "metadata": {},
   "source": [
    "**With all available predictors**\n",
    "\n",
    "The optimal lambda value is:\n",
    "   \n",
    "    Ridge: 9.332\n",
    "    Lasso: 0.000437\n",
    "    ElasticNet: 0.001086\n",
    "\n",
    "The r2_score of predicted train set and test set and the mean squared error of predicted of test value is:\n",
    "    \n",
    "    Ridge: 0.937, 0.8995, 0.0127\n",
    "    Lasso: 0.933, 0.8964, 0.0131\n",
    "    ElasticNet: 0.9308, 0.8959, 0.0131\n",
    "\n",
    "**With ten predictors only (selected by forward selection)**\n",
    "\n",
    "The optimal lambda value is:\n",
    "   \n",
    "    Ridge: 4.904\n",
    "    Lasso: 0.000312\n",
    "    ElasticNet: 0.000609\n",
    "\n",
    "The r2_score of predicted train set and test set and the mean squared error of predicted of test value is:\n",
    "    \n",
    "    Ridge: 0.8926, 0.8801, 0.0151\n",
    "    Lasso: 0.8926, 0.8801, 0.0151\n",
    "    ElasticNet: 0.8926, 0.8801, 0.0151\n",
    "\n",
    "**There are interesting observation here**, if we see the r2 score of the train set in the full variable model and the model with ten variable only, the r2 score gap is quite noticeable (~0.93 vs. ~0.89), but the r2 score of the test set only differ around 0.01! It indicates that by using ten variables only, we can generalize our model better with relatively high accuracy. \n",
    "\n",
    "**Hence, we will choose the model with ten predictors only!** (Occam's razor principle)\n",
    "\n",
    "In a model of 10 predictors, we create three options for the regularization. It is a hard choice as they don’t have any noticeable differences. So whatever the chosen model, all produce all the same results.\n",
    "\n",
    "Let say we choose ElasticNet because it is combining the advantages of both Lasso and Ridge, the five most important predictors that generally affect the prices are :\n",
    "\n",
    "    MSSubClass\t0.245\n",
    "    BsmtUnfSF\t-0.110\n",
    "    MasVnrArea\t0.104\n",
    "    LotFrontage\t0.098\n",
    "    OverallQual\t-0.096\n",
    "    \n",
    "We can see that the sales price is quite affected by **the type of dwelling involved in the sale (coef: 0.245)** followed by **Unfinished square feet of basement area (coef: -0.110)**, then followed by **Masonry veneer area in square feet (coef: 0.104)**, **Linear feet of street-connected to property (coef: 0.098)**, **Rates the overall material and finish of the house (coef: -0.096)**"
   ]
  }
 ],
 "metadata": {
  "kernelspec": {
   "display_name": "Python 3",
   "language": "python",
   "name": "python3"
  },
  "language_info": {
   "codemirror_mode": {
    "name": "ipython",
    "version": 3
   },
   "file_extension": ".py",
   "mimetype": "text/x-python",
   "name": "python",
   "nbconvert_exporter": "python",
   "pygments_lexer": "ipython3",
   "version": "3.7.9"
  }
 },
 "nbformat": 4,
 "nbformat_minor": 4
}
